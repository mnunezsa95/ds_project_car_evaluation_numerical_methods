{
 "cells": [
  {
   "cell_type": "markdown",
   "metadata": {},
   "source": [
    "# Rusty Bargain"
   ]
  },
  {
   "cell_type": "markdown",
   "metadata": {},
   "source": [
    "## Introduction"
   ]
  },
  {
   "cell_type": "markdown",
   "metadata": {},
   "source": [
    "**Background**\n",
    "\n",
    "Rusty Bargain, a leading used car sales service, is developing a new mobile application aimed at attracting prospective customers. The app's primary feature is the ability to swiftly determine the market value of a user's car. To achieve this, the project requires building a machine learning model capable of accurately predicting car values based on historical data encompassing technical specifications, trim versions, and past prices.\n",
    "\n",
    "**Objectives**\n",
    "The project focuses on three key objectives:\n",
    "* Prediction Quality: Develop a model that reliably estimates car market values, ensuring users receive accurate and dependable information.\n",
    "* Prediction Speed: Optimize the prediction process for rapid valuation, enhancing user experience within the Rusty Bargain app.\n",
    "* Training Efficiency: Streamline model training to minimize time and computational resources while maintaining high prediction accuracy.\n",
    "\n",
    "**Data Description**\n",
    "The dataset includes detailed technical specifications, trim variations, and historical pricing data for multiple car models. This data forms the basis for training and evaluating the machine learning model.\n",
    "\n",
    "**Methodology**\n",
    "The approach involves exploring various machine learning algorithms suitable for regression tasks, evaluating their performance metrics, and refining the chosen model to meet Rusty Bargain’s rigorous standards for prediction accuracy, speed, and efficiency.\n",
    "\n",
    "**Project Scope**\n",
    "This project aims to deliver a scalable and robust machine learning solution integrated into the Rusty Bargain app. By leveraging advanced machine learning techniques and optimizing computational efficiency, the goal is to provide an exceptional car valuation service that enhances customer engagement and satisfaction."
   ]
  },
  {
   "cell_type": "markdown",
   "metadata": {},
   "source": [
    "## Setup"
   ]
  },
  {
   "cell_type": "markdown",
   "metadata": {},
   "source": [
    "### Library Imports"
   ]
  },
  {
   "cell_type": "code",
   "execution_count": 1,
   "metadata": {},
   "outputs": [],
   "source": [
    "import pandas as pd\n",
    "import numpy as np\n",
    "import lightgbm as lgb\n",
    "import math\n",
    "import pprint\n",
    "import time\n",
    "import sklearn.linear_model\n",
    "import sklearn.tree\n",
    "import sklearn.ensemble\n",
    "import sklearn.metrics\n",
    "\n",
    "from scipy import stats as st\n",
    "from matplotlib import pyplot as plt\n",
    "from sklearn.model_selection import train_test_split"
   ]
  },
  {
   "cell_type": "markdown",
   "metadata": {},
   "source": [
    "### Data Import"
   ]
  },
  {
   "cell_type": "code",
   "execution_count": 2,
   "metadata": {},
   "outputs": [
    {
     "name": "stdout",
     "output_type": "stream",
     "text": [
      "The data was loaded successfully.\n"
     ]
    }
   ],
   "source": [
    "try:\n",
    "    data = pd.read_csv('./data/car_data.csv')\n",
    "except FileNotFoundError as e:\n",
    "    print(f'The following error occured: {e}')\n",
    "else:\n",
    "    print('The data was loaded successfully.')"
   ]
  },
  {
   "cell_type": "markdown",
   "metadata": {},
   "source": [
    "## Data Preparation"
   ]
  },
  {
   "cell_type": "code",
   "execution_count": 3,
   "metadata": {
    "scrolled": true
   },
   "outputs": [
    {
     "name": "stdout",
     "output_type": "stream",
     "text": [
      "<class 'pandas.core.frame.DataFrame'>\n",
      "RangeIndex: 354369 entries, 0 to 354368\n",
      "Data columns (total 16 columns):\n",
      " #   Column             Non-Null Count   Dtype \n",
      "---  ------             --------------   ----- \n",
      " 0   DateCrawled        354369 non-null  object\n",
      " 1   Price              354369 non-null  int64 \n",
      " 2   VehicleType        316879 non-null  object\n",
      " 3   RegistrationYear   354369 non-null  int64 \n",
      " 4   Gearbox            334536 non-null  object\n",
      " 5   Power              354369 non-null  int64 \n",
      " 6   Model              334664 non-null  object\n",
      " 7   Mileage            354369 non-null  int64 \n",
      " 8   RegistrationMonth  354369 non-null  int64 \n",
      " 9   FuelType           321474 non-null  object\n",
      " 10  Brand              354369 non-null  object\n",
      " 11  NotRepaired        283215 non-null  object\n",
      " 12  DateCreated        354369 non-null  object\n",
      " 13  NumberOfPictures   354369 non-null  int64 \n",
      " 14  PostalCode         354369 non-null  int64 \n",
      " 15  LastSeen           354369 non-null  object\n",
      "dtypes: int64(7), object(9)\n",
      "memory usage: 43.3+ MB\n"
     ]
    }
   ],
   "source": [
    "data.info()"
   ]
  },
  {
   "cell_type": "code",
   "execution_count": 4,
   "metadata": {},
   "outputs": [
    {
     "data": {
      "text/html": [
       "<div>\n",
       "<style scoped>\n",
       "    .dataframe tbody tr th:only-of-type {\n",
       "        vertical-align: middle;\n",
       "    }\n",
       "\n",
       "    .dataframe tbody tr th {\n",
       "        vertical-align: top;\n",
       "    }\n",
       "\n",
       "    .dataframe thead th {\n",
       "        text-align: right;\n",
       "    }\n",
       "</style>\n",
       "<table border=\"1\" class=\"dataframe\">\n",
       "  <thead>\n",
       "    <tr style=\"text-align: right;\">\n",
       "      <th></th>\n",
       "      <th>DateCrawled</th>\n",
       "      <th>Price</th>\n",
       "      <th>VehicleType</th>\n",
       "      <th>RegistrationYear</th>\n",
       "      <th>Gearbox</th>\n",
       "      <th>Power</th>\n",
       "      <th>Model</th>\n",
       "      <th>Mileage</th>\n",
       "      <th>RegistrationMonth</th>\n",
       "      <th>FuelType</th>\n",
       "      <th>Brand</th>\n",
       "      <th>NotRepaired</th>\n",
       "      <th>DateCreated</th>\n",
       "      <th>NumberOfPictures</th>\n",
       "      <th>PostalCode</th>\n",
       "      <th>LastSeen</th>\n",
       "    </tr>\n",
       "  </thead>\n",
       "  <tbody>\n",
       "    <tr>\n",
       "      <th>0</th>\n",
       "      <td>24/03/2016 11:52</td>\n",
       "      <td>480</td>\n",
       "      <td>NaN</td>\n",
       "      <td>1993</td>\n",
       "      <td>manual</td>\n",
       "      <td>0</td>\n",
       "      <td>golf</td>\n",
       "      <td>150000</td>\n",
       "      <td>0</td>\n",
       "      <td>petrol</td>\n",
       "      <td>volkswagen</td>\n",
       "      <td>NaN</td>\n",
       "      <td>24/03/2016 00:00</td>\n",
       "      <td>0</td>\n",
       "      <td>70435</td>\n",
       "      <td>07/04/2016 03:16</td>\n",
       "    </tr>\n",
       "    <tr>\n",
       "      <th>1</th>\n",
       "      <td>24/03/2016 10:58</td>\n",
       "      <td>18300</td>\n",
       "      <td>coupe</td>\n",
       "      <td>2011</td>\n",
       "      <td>manual</td>\n",
       "      <td>190</td>\n",
       "      <td>NaN</td>\n",
       "      <td>125000</td>\n",
       "      <td>5</td>\n",
       "      <td>gasoline</td>\n",
       "      <td>audi</td>\n",
       "      <td>yes</td>\n",
       "      <td>24/03/2016 00:00</td>\n",
       "      <td>0</td>\n",
       "      <td>66954</td>\n",
       "      <td>07/04/2016 01:46</td>\n",
       "    </tr>\n",
       "    <tr>\n",
       "      <th>2</th>\n",
       "      <td>14/03/2016 12:52</td>\n",
       "      <td>9800</td>\n",
       "      <td>suv</td>\n",
       "      <td>2004</td>\n",
       "      <td>auto</td>\n",
       "      <td>163</td>\n",
       "      <td>grand</td>\n",
       "      <td>125000</td>\n",
       "      <td>8</td>\n",
       "      <td>gasoline</td>\n",
       "      <td>jeep</td>\n",
       "      <td>NaN</td>\n",
       "      <td>14/03/2016 00:00</td>\n",
       "      <td>0</td>\n",
       "      <td>90480</td>\n",
       "      <td>05/04/2016 12:47</td>\n",
       "    </tr>\n",
       "    <tr>\n",
       "      <th>3</th>\n",
       "      <td>17/03/2016 16:54</td>\n",
       "      <td>1500</td>\n",
       "      <td>small</td>\n",
       "      <td>2001</td>\n",
       "      <td>manual</td>\n",
       "      <td>75</td>\n",
       "      <td>golf</td>\n",
       "      <td>150000</td>\n",
       "      <td>6</td>\n",
       "      <td>petrol</td>\n",
       "      <td>volkswagen</td>\n",
       "      <td>no</td>\n",
       "      <td>17/03/2016 00:00</td>\n",
       "      <td>0</td>\n",
       "      <td>91074</td>\n",
       "      <td>17/03/2016 17:40</td>\n",
       "    </tr>\n",
       "    <tr>\n",
       "      <th>4</th>\n",
       "      <td>31/03/2016 17:25</td>\n",
       "      <td>3600</td>\n",
       "      <td>small</td>\n",
       "      <td>2008</td>\n",
       "      <td>manual</td>\n",
       "      <td>69</td>\n",
       "      <td>fabia</td>\n",
       "      <td>90000</td>\n",
       "      <td>7</td>\n",
       "      <td>gasoline</td>\n",
       "      <td>skoda</td>\n",
       "      <td>no</td>\n",
       "      <td>31/03/2016 00:00</td>\n",
       "      <td>0</td>\n",
       "      <td>60437</td>\n",
       "      <td>06/04/2016 10:17</td>\n",
       "    </tr>\n",
       "    <tr>\n",
       "      <th>5</th>\n",
       "      <td>04/04/2016 17:36</td>\n",
       "      <td>650</td>\n",
       "      <td>sedan</td>\n",
       "      <td>1995</td>\n",
       "      <td>manual</td>\n",
       "      <td>102</td>\n",
       "      <td>3er</td>\n",
       "      <td>150000</td>\n",
       "      <td>10</td>\n",
       "      <td>petrol</td>\n",
       "      <td>bmw</td>\n",
       "      <td>yes</td>\n",
       "      <td>04/04/2016 00:00</td>\n",
       "      <td>0</td>\n",
       "      <td>33775</td>\n",
       "      <td>06/04/2016 19:17</td>\n",
       "    </tr>\n",
       "    <tr>\n",
       "      <th>6</th>\n",
       "      <td>01/04/2016 20:48</td>\n",
       "      <td>2200</td>\n",
       "      <td>convertible</td>\n",
       "      <td>2004</td>\n",
       "      <td>manual</td>\n",
       "      <td>109</td>\n",
       "      <td>2_reihe</td>\n",
       "      <td>150000</td>\n",
       "      <td>8</td>\n",
       "      <td>petrol</td>\n",
       "      <td>peugeot</td>\n",
       "      <td>no</td>\n",
       "      <td>01/04/2016 00:00</td>\n",
       "      <td>0</td>\n",
       "      <td>67112</td>\n",
       "      <td>05/04/2016 18:18</td>\n",
       "    </tr>\n",
       "    <tr>\n",
       "      <th>7</th>\n",
       "      <td>21/03/2016 18:54</td>\n",
       "      <td>0</td>\n",
       "      <td>sedan</td>\n",
       "      <td>1980</td>\n",
       "      <td>manual</td>\n",
       "      <td>50</td>\n",
       "      <td>other</td>\n",
       "      <td>40000</td>\n",
       "      <td>7</td>\n",
       "      <td>petrol</td>\n",
       "      <td>volkswagen</td>\n",
       "      <td>no</td>\n",
       "      <td>21/03/2016 00:00</td>\n",
       "      <td>0</td>\n",
       "      <td>19348</td>\n",
       "      <td>25/03/2016 16:47</td>\n",
       "    </tr>\n",
       "    <tr>\n",
       "      <th>8</th>\n",
       "      <td>04/04/2016 23:42</td>\n",
       "      <td>14500</td>\n",
       "      <td>bus</td>\n",
       "      <td>2014</td>\n",
       "      <td>manual</td>\n",
       "      <td>125</td>\n",
       "      <td>c_max</td>\n",
       "      <td>30000</td>\n",
       "      <td>8</td>\n",
       "      <td>petrol</td>\n",
       "      <td>ford</td>\n",
       "      <td>NaN</td>\n",
       "      <td>04/04/2016 00:00</td>\n",
       "      <td>0</td>\n",
       "      <td>94505</td>\n",
       "      <td>04/04/2016 23:42</td>\n",
       "    </tr>\n",
       "    <tr>\n",
       "      <th>9</th>\n",
       "      <td>17/03/2016 10:53</td>\n",
       "      <td>999</td>\n",
       "      <td>small</td>\n",
       "      <td>1998</td>\n",
       "      <td>manual</td>\n",
       "      <td>101</td>\n",
       "      <td>golf</td>\n",
       "      <td>150000</td>\n",
       "      <td>0</td>\n",
       "      <td>NaN</td>\n",
       "      <td>volkswagen</td>\n",
       "      <td>NaN</td>\n",
       "      <td>17/03/2016 00:00</td>\n",
       "      <td>0</td>\n",
       "      <td>27472</td>\n",
       "      <td>31/03/2016 17:17</td>\n",
       "    </tr>\n",
       "  </tbody>\n",
       "</table>\n",
       "</div>"
      ],
      "text/plain": [
       "        DateCrawled  Price  VehicleType  RegistrationYear Gearbox  Power  \\\n",
       "0  24/03/2016 11:52    480          NaN              1993  manual      0   \n",
       "1  24/03/2016 10:58  18300        coupe              2011  manual    190   \n",
       "2  14/03/2016 12:52   9800          suv              2004    auto    163   \n",
       "3  17/03/2016 16:54   1500        small              2001  manual     75   \n",
       "4  31/03/2016 17:25   3600        small              2008  manual     69   \n",
       "5  04/04/2016 17:36    650        sedan              1995  manual    102   \n",
       "6  01/04/2016 20:48   2200  convertible              2004  manual    109   \n",
       "7  21/03/2016 18:54      0        sedan              1980  manual     50   \n",
       "8  04/04/2016 23:42  14500          bus              2014  manual    125   \n",
       "9  17/03/2016 10:53    999        small              1998  manual    101   \n",
       "\n",
       "     Model  Mileage  RegistrationMonth  FuelType       Brand NotRepaired  \\\n",
       "0     golf   150000                  0    petrol  volkswagen         NaN   \n",
       "1      NaN   125000                  5  gasoline        audi         yes   \n",
       "2    grand   125000                  8  gasoline        jeep         NaN   \n",
       "3     golf   150000                  6    petrol  volkswagen          no   \n",
       "4    fabia    90000                  7  gasoline       skoda          no   \n",
       "5      3er   150000                 10    petrol         bmw         yes   \n",
       "6  2_reihe   150000                  8    petrol     peugeot          no   \n",
       "7    other    40000                  7    petrol  volkswagen          no   \n",
       "8    c_max    30000                  8    petrol        ford         NaN   \n",
       "9     golf   150000                  0       NaN  volkswagen         NaN   \n",
       "\n",
       "        DateCreated  NumberOfPictures  PostalCode          LastSeen  \n",
       "0  24/03/2016 00:00                 0       70435  07/04/2016 03:16  \n",
       "1  24/03/2016 00:00                 0       66954  07/04/2016 01:46  \n",
       "2  14/03/2016 00:00                 0       90480  05/04/2016 12:47  \n",
       "3  17/03/2016 00:00                 0       91074  17/03/2016 17:40  \n",
       "4  31/03/2016 00:00                 0       60437  06/04/2016 10:17  \n",
       "5  04/04/2016 00:00                 0       33775  06/04/2016 19:17  \n",
       "6  01/04/2016 00:00                 0       67112  05/04/2016 18:18  \n",
       "7  21/03/2016 00:00                 0       19348  25/03/2016 16:47  \n",
       "8  04/04/2016 00:00                 0       94505  04/04/2016 23:42  \n",
       "9  17/03/2016 00:00                 0       27472  31/03/2016 17:17  "
      ]
     },
     "execution_count": 4,
     "metadata": {},
     "output_type": "execute_result"
    }
   ],
   "source": [
    "data.head(10)"
   ]
  },
  {
   "cell_type": "markdown",
   "metadata": {},
   "source": [
    "**Observations**\n",
    "\n",
    "The initial analysis of the dataset indicates that the column names are not appropriately labeled. Furthermore, the data types for certain features are unusual and warrant further investigation. Additionally, there are significant missing values in the `VehicleType`, `Gearbox`, `Model`, `FuelType`, and `NotRepaired` columns, all of which could be crucial for determining market value. These issues need to be examined, and a suitable method for addressing the missing values must be determined.\n",
    "\n",
    "Additionally, some values in the dataset do not make sense. For instance, the `power` feature has some values of 0, which is unrealistic since vehicles cannot have zero horsepower. These values will be replaced with the mean to ensure more accurate results when evaluating models."
   ]
  },
  {
   "cell_type": "code",
   "execution_count": 5,
   "metadata": {
    "scrolled": true
   },
   "outputs": [],
   "source": [
    "# Fix column names\n",
    "\n",
    "new_column_names = []\n",
    "for col in data.columns:\n",
    "    new_column_names.append(''.join(['_' + i.lower() if i.isupper() else i for i in col]).lstrip('_'))\n",
    "\n",
    "data.columns = new_column_names"
   ]
  },
  {
   "cell_type": "code",
   "execution_count": 6,
   "metadata": {
    "scrolled": true
   },
   "outputs": [
    {
     "name": "stdout",
     "output_type": "stream",
     "text": [
      "----------Number of Missing Values by Column----------\n",
      "\n",
      "vehicle_type: 37490\n",
      "sedan          91457\n",
      "small          79831\n",
      "wagon          65166\n",
      "bus            28775\n",
      "convertible    20203\n",
      "coupe          16163\n",
      "suv            11996\n",
      "other           3288\n",
      "Name: vehicle_type, dtype: int64 \n",
      "\n",
      "========================================================================\n",
      "gearbox: 19833\n",
      "manual    268251\n",
      "auto       66285\n",
      "Name: gearbox, dtype: int64 \n",
      "\n",
      "========================================================================\n",
      "model: 19705\n",
      "golf                  29232\n",
      "other                 24421\n",
      "3er                   19761\n",
      "polo                  13066\n",
      "corsa                 12570\n",
      "                      ...  \n",
      "serie_2                   8\n",
      "serie_3                   4\n",
      "rangerover                4\n",
      "serie_1                   2\n",
      "range_rover_evoque        2\n",
      "Name: model, Length: 250, dtype: int64 \n",
      "\n",
      "========================================================================\n",
      "fuel_type: 32895\n",
      "petrol      216352\n",
      "gasoline     98720\n",
      "lpg           5310\n",
      "cng            565\n",
      "hybrid         233\n",
      "other          204\n",
      "electric        90\n",
      "Name: fuel_type, dtype: int64 \n",
      "\n",
      "========================================================================\n",
      "not_repaired: 71154\n",
      "no     247161\n",
      "yes     36054\n",
      "Name: not_repaired, dtype: int64 \n",
      "\n",
      "========================================================================\n"
     ]
    }
   ],
   "source": [
    "# Find number of missing values\n",
    "\n",
    "print(\"----------Number of Missing Values by Column----------\\n\")\n",
    "for col in data.columns:\n",
    "    missing_count = data[col].isna().sum()\n",
    "    if missing_count > 0:\n",
    "        print(f\"{col}: {missing_count}\")\n",
    "        print(data[col].value_counts(), '\\n')\n",
    "        print(\"========================================================================\")"
   ]
  },
  {
   "cell_type": "markdown",
   "metadata": {},
   "source": [
    "The number of missing values is notably high, particularly in the `not_repaired`, `fuel_type`, and `vehicle_type` columns. The following methods will be used to handle the missing values:\n",
    "\n",
    "* `vehicle_type`: Missing values will be categorized as 'other'.\n",
    "* `gearbox`: Missing values will be set to 'manual' since 'manual' values significantly outnumber 'automatic' * values.\n",
    "* `model`: Missing values will be filled with the most frequent value.\n",
    "* `fuel_type`: Missing values will be assigned 'unknown'.\n",
    "* `not_repaired`: Missing values will be classified as 'no', as it is more prudent to assume they were not repaired rather than assuming they were."
   ]
  },
  {
   "cell_type": "code",
   "execution_count": 7,
   "metadata": {},
   "outputs": [],
   "source": [
    "# Fill missing values -- vehicle_type\n",
    "\n",
    "data['vehicle_type'].fillna('other', inplace=True)\n",
    "data['gearbox'].fillna('manual', inplace=True)\n",
    "data['model'].fillna(data['model'].mode()[0], inplace=True)\n",
    "data['fuel_type'].fillna('unknown', inplace=True)\n",
    "data['not_repaired'].fillna('no', inplace=True)"
   ]
  },
  {
   "cell_type": "code",
   "execution_count": 8,
   "metadata": {
    "scrolled": true
   },
   "outputs": [
    {
     "data": {
      "text/plain": [
       "vehicle_type    0\n",
       "gearbox         0\n",
       "model           0\n",
       "fuel_type       0\n",
       "not_repaired    0\n",
       "dtype: int64"
      ]
     },
     "execution_count": 8,
     "metadata": {},
     "output_type": "execute_result"
    }
   ],
   "source": [
    "# Ensure missing values are replaced\n",
    "\n",
    "data.loc[:, ['vehicle_type', 'gearbox', 'model', 'fuel_type', 'not_repaired']].isna().sum()"
   ]
  },
  {
   "cell_type": "code",
   "execution_count": 9,
   "metadata": {},
   "outputs": [],
   "source": [
    "# Replace `power` values of 0 with the mean\n",
    "\n",
    "data['power'].replace(0, math.ceil(data['power'].mean()), inplace=True)"
   ]
  },
  {
   "cell_type": "code",
   "execution_count": 10,
   "metadata": {},
   "outputs": [
    {
     "data": {
      "text/plain": [
       "293"
      ]
     },
     "execution_count": 10,
     "metadata": {},
     "output_type": "execute_result"
    }
   ],
   "source": [
    "# Find number of duplicates\n",
    "\n",
    "data.duplicated().sum()"
   ]
  },
  {
   "cell_type": "markdown",
   "metadata": {},
   "source": [
    "Although there are duplicates within the dataset, they do not need to be removed or handled. This is because the same values can appear more than once without indicating duplicate entries. For example, it is possible for two vehicles to share the same mileage, brand, fuel type, etc."
   ]
  },
  {
   "cell_type": "code",
   "execution_count": 11,
   "metadata": {},
   "outputs": [
    {
     "data": {
      "text/html": [
       "<div>\n",
       "<style scoped>\n",
       "    .dataframe tbody tr th:only-of-type {\n",
       "        vertical-align: middle;\n",
       "    }\n",
       "\n",
       "    .dataframe tbody tr th {\n",
       "        vertical-align: top;\n",
       "    }\n",
       "\n",
       "    .dataframe thead th {\n",
       "        text-align: right;\n",
       "    }\n",
       "</style>\n",
       "<table border=\"1\" class=\"dataframe\">\n",
       "  <thead>\n",
       "    <tr style=\"text-align: right;\">\n",
       "      <th></th>\n",
       "      <th>date_crawled</th>\n",
       "      <th>price</th>\n",
       "      <th>vehicle_type</th>\n",
       "      <th>registration_year</th>\n",
       "      <th>gearbox</th>\n",
       "      <th>power</th>\n",
       "      <th>model</th>\n",
       "      <th>mileage</th>\n",
       "      <th>registration_month</th>\n",
       "      <th>fuel_type</th>\n",
       "      <th>brand</th>\n",
       "      <th>not_repaired</th>\n",
       "      <th>date_created</th>\n",
       "      <th>number_of_pictures</th>\n",
       "      <th>postal_code</th>\n",
       "      <th>last_seen</th>\n",
       "    </tr>\n",
       "  </thead>\n",
       "  <tbody>\n",
       "    <tr>\n",
       "      <th>0</th>\n",
       "      <td>24/03/2016 11:52</td>\n",
       "      <td>480</td>\n",
       "      <td>other</td>\n",
       "      <td>1993</td>\n",
       "      <td>manual</td>\n",
       "      <td>111</td>\n",
       "      <td>golf</td>\n",
       "      <td>150000</td>\n",
       "      <td>0</td>\n",
       "      <td>petrol</td>\n",
       "      <td>volkswagen</td>\n",
       "      <td>no</td>\n",
       "      <td>24/03/2016 00:00</td>\n",
       "      <td>0</td>\n",
       "      <td>70435</td>\n",
       "      <td>07/04/2016 03:16</td>\n",
       "    </tr>\n",
       "    <tr>\n",
       "      <th>1</th>\n",
       "      <td>24/03/2016 10:58</td>\n",
       "      <td>18300</td>\n",
       "      <td>coupe</td>\n",
       "      <td>2011</td>\n",
       "      <td>manual</td>\n",
       "      <td>190</td>\n",
       "      <td>golf</td>\n",
       "      <td>125000</td>\n",
       "      <td>5</td>\n",
       "      <td>gasoline</td>\n",
       "      <td>audi</td>\n",
       "      <td>yes</td>\n",
       "      <td>24/03/2016 00:00</td>\n",
       "      <td>0</td>\n",
       "      <td>66954</td>\n",
       "      <td>07/04/2016 01:46</td>\n",
       "    </tr>\n",
       "    <tr>\n",
       "      <th>2</th>\n",
       "      <td>14/03/2016 12:52</td>\n",
       "      <td>9800</td>\n",
       "      <td>suv</td>\n",
       "      <td>2004</td>\n",
       "      <td>auto</td>\n",
       "      <td>163</td>\n",
       "      <td>grand</td>\n",
       "      <td>125000</td>\n",
       "      <td>8</td>\n",
       "      <td>gasoline</td>\n",
       "      <td>jeep</td>\n",
       "      <td>no</td>\n",
       "      <td>14/03/2016 00:00</td>\n",
       "      <td>0</td>\n",
       "      <td>90480</td>\n",
       "      <td>05/04/2016 12:47</td>\n",
       "    </tr>\n",
       "    <tr>\n",
       "      <th>3</th>\n",
       "      <td>17/03/2016 16:54</td>\n",
       "      <td>1500</td>\n",
       "      <td>small</td>\n",
       "      <td>2001</td>\n",
       "      <td>manual</td>\n",
       "      <td>75</td>\n",
       "      <td>golf</td>\n",
       "      <td>150000</td>\n",
       "      <td>6</td>\n",
       "      <td>petrol</td>\n",
       "      <td>volkswagen</td>\n",
       "      <td>no</td>\n",
       "      <td>17/03/2016 00:00</td>\n",
       "      <td>0</td>\n",
       "      <td>91074</td>\n",
       "      <td>17/03/2016 17:40</td>\n",
       "    </tr>\n",
       "    <tr>\n",
       "      <th>4</th>\n",
       "      <td>31/03/2016 17:25</td>\n",
       "      <td>3600</td>\n",
       "      <td>small</td>\n",
       "      <td>2008</td>\n",
       "      <td>manual</td>\n",
       "      <td>69</td>\n",
       "      <td>fabia</td>\n",
       "      <td>90000</td>\n",
       "      <td>7</td>\n",
       "      <td>gasoline</td>\n",
       "      <td>skoda</td>\n",
       "      <td>no</td>\n",
       "      <td>31/03/2016 00:00</td>\n",
       "      <td>0</td>\n",
       "      <td>60437</td>\n",
       "      <td>06/04/2016 10:17</td>\n",
       "    </tr>\n",
       "    <tr>\n",
       "      <th>5</th>\n",
       "      <td>04/04/2016 17:36</td>\n",
       "      <td>650</td>\n",
       "      <td>sedan</td>\n",
       "      <td>1995</td>\n",
       "      <td>manual</td>\n",
       "      <td>102</td>\n",
       "      <td>3er</td>\n",
       "      <td>150000</td>\n",
       "      <td>10</td>\n",
       "      <td>petrol</td>\n",
       "      <td>bmw</td>\n",
       "      <td>yes</td>\n",
       "      <td>04/04/2016 00:00</td>\n",
       "      <td>0</td>\n",
       "      <td>33775</td>\n",
       "      <td>06/04/2016 19:17</td>\n",
       "    </tr>\n",
       "    <tr>\n",
       "      <th>6</th>\n",
       "      <td>01/04/2016 20:48</td>\n",
       "      <td>2200</td>\n",
       "      <td>convertible</td>\n",
       "      <td>2004</td>\n",
       "      <td>manual</td>\n",
       "      <td>109</td>\n",
       "      <td>2_reihe</td>\n",
       "      <td>150000</td>\n",
       "      <td>8</td>\n",
       "      <td>petrol</td>\n",
       "      <td>peugeot</td>\n",
       "      <td>no</td>\n",
       "      <td>01/04/2016 00:00</td>\n",
       "      <td>0</td>\n",
       "      <td>67112</td>\n",
       "      <td>05/04/2016 18:18</td>\n",
       "    </tr>\n",
       "    <tr>\n",
       "      <th>7</th>\n",
       "      <td>21/03/2016 18:54</td>\n",
       "      <td>0</td>\n",
       "      <td>sedan</td>\n",
       "      <td>1980</td>\n",
       "      <td>manual</td>\n",
       "      <td>50</td>\n",
       "      <td>other</td>\n",
       "      <td>40000</td>\n",
       "      <td>7</td>\n",
       "      <td>petrol</td>\n",
       "      <td>volkswagen</td>\n",
       "      <td>no</td>\n",
       "      <td>21/03/2016 00:00</td>\n",
       "      <td>0</td>\n",
       "      <td>19348</td>\n",
       "      <td>25/03/2016 16:47</td>\n",
       "    </tr>\n",
       "    <tr>\n",
       "      <th>8</th>\n",
       "      <td>04/04/2016 23:42</td>\n",
       "      <td>14500</td>\n",
       "      <td>bus</td>\n",
       "      <td>2014</td>\n",
       "      <td>manual</td>\n",
       "      <td>125</td>\n",
       "      <td>c_max</td>\n",
       "      <td>30000</td>\n",
       "      <td>8</td>\n",
       "      <td>petrol</td>\n",
       "      <td>ford</td>\n",
       "      <td>no</td>\n",
       "      <td>04/04/2016 00:00</td>\n",
       "      <td>0</td>\n",
       "      <td>94505</td>\n",
       "      <td>04/04/2016 23:42</td>\n",
       "    </tr>\n",
       "    <tr>\n",
       "      <th>9</th>\n",
       "      <td>17/03/2016 10:53</td>\n",
       "      <td>999</td>\n",
       "      <td>small</td>\n",
       "      <td>1998</td>\n",
       "      <td>manual</td>\n",
       "      <td>101</td>\n",
       "      <td>golf</td>\n",
       "      <td>150000</td>\n",
       "      <td>0</td>\n",
       "      <td>petrol</td>\n",
       "      <td>volkswagen</td>\n",
       "      <td>no</td>\n",
       "      <td>17/03/2016 00:00</td>\n",
       "      <td>0</td>\n",
       "      <td>27472</td>\n",
       "      <td>31/03/2016 17:17</td>\n",
       "    </tr>\n",
       "  </tbody>\n",
       "</table>\n",
       "</div>"
      ],
      "text/plain": [
       "       date_crawled  price vehicle_type  registration_year gearbox  power  \\\n",
       "0  24/03/2016 11:52    480        other               1993  manual    111   \n",
       "1  24/03/2016 10:58  18300        coupe               2011  manual    190   \n",
       "2  14/03/2016 12:52   9800          suv               2004    auto    163   \n",
       "3  17/03/2016 16:54   1500        small               2001  manual     75   \n",
       "4  31/03/2016 17:25   3600        small               2008  manual     69   \n",
       "5  04/04/2016 17:36    650        sedan               1995  manual    102   \n",
       "6  01/04/2016 20:48   2200  convertible               2004  manual    109   \n",
       "7  21/03/2016 18:54      0        sedan               1980  manual     50   \n",
       "8  04/04/2016 23:42  14500          bus               2014  manual    125   \n",
       "9  17/03/2016 10:53    999        small               1998  manual    101   \n",
       "\n",
       "     model  mileage  registration_month fuel_type       brand not_repaired  \\\n",
       "0     golf   150000                   0    petrol  volkswagen           no   \n",
       "1     golf   125000                   5  gasoline        audi          yes   \n",
       "2    grand   125000                   8  gasoline        jeep           no   \n",
       "3     golf   150000                   6    petrol  volkswagen           no   \n",
       "4    fabia    90000                   7  gasoline       skoda           no   \n",
       "5      3er   150000                  10    petrol         bmw          yes   \n",
       "6  2_reihe   150000                   8    petrol     peugeot           no   \n",
       "7    other    40000                   7    petrol  volkswagen           no   \n",
       "8    c_max    30000                   8    petrol        ford           no   \n",
       "9     golf   150000                   0    petrol  volkswagen           no   \n",
       "\n",
       "       date_created  number_of_pictures  postal_code         last_seen  \n",
       "0  24/03/2016 00:00                   0        70435  07/04/2016 03:16  \n",
       "1  24/03/2016 00:00                   0        66954  07/04/2016 01:46  \n",
       "2  14/03/2016 00:00                   0        90480  05/04/2016 12:47  \n",
       "3  17/03/2016 00:00                   0        91074  17/03/2016 17:40  \n",
       "4  31/03/2016 00:00                   0        60437  06/04/2016 10:17  \n",
       "5  04/04/2016 00:00                   0        33775  06/04/2016 19:17  \n",
       "6  01/04/2016 00:00                   0        67112  05/04/2016 18:18  \n",
       "7  21/03/2016 00:00                   0        19348  25/03/2016 16:47  \n",
       "8  04/04/2016 00:00                   0        94505  04/04/2016 23:42  \n",
       "9  17/03/2016 00:00                   0        27472  31/03/2016 17:17  "
      ]
     },
     "execution_count": 11,
     "metadata": {},
     "output_type": "execute_result"
    }
   ],
   "source": [
    "# Observe data\n",
    "\n",
    "data.head(10)"
   ]
  },
  {
   "cell_type": "markdown",
   "metadata": {},
   "source": [
    "## Model Training"
   ]
  },
  {
   "cell_type": "markdown",
   "metadata": {},
   "source": [
    "### Data Preprocessing"
   ]
  },
  {
   "cell_type": "code",
   "execution_count": 12,
   "metadata": {},
   "outputs": [],
   "source": [
    "# Data split function\n",
    "\n",
    "def get_data_split(data, split_size=0.40, rnd_state=12345, shuffle=True):\n",
    "    \n",
    "    # Split the data into train and validation\n",
    "    data_train, data_valid = train_test_split(\n",
    "        data, test_size=split_size, shuffle=True, random_state=rnd_state\n",
    "    )\n",
    "    \n",
    "    # Further split the validation set in half to obtain test test\n",
    "    data_test, data_valid = train_test_split(\n",
    "        data_valid, test_size=(split_size + .10), shuffle=True, random_state=rnd_state\n",
    "    )\n",
    "    \n",
    "    # Handle potential errors & print summary of data split\n",
    "    try:\n",
    "        sum_of_datasets = len(data_train) + len(data_valid) + len(data_test)\n",
    "        if len(data) == sum_of_datasets:\n",
    "            print(\n",
    "                'Data Split Ratio (3:1:1)\\n',  \n",
    "                f' Train = 60% [shape={data_train.shape}]\\n', \n",
    "                f' Validation = 20% [shape={data_valid.shape}]\\n',\n",
    "                f' Test = 20% [shape={data_test.shape}]'\n",
    "            )\n",
    "        else:\n",
    "            raise ValueError(\"Data lengths do not match expected sum.\")\n",
    "    except ValueError as ve:\n",
    "            print(f\"ValueError: {ve}\")\n",
    "    except Exception as e:\n",
    "            print(f\"Error when splitting data: {e}\")\n",
    "        \n",
    "    # Return split datasets\n",
    "    return data_train, data_valid, data_test"
   ]
  },
  {
   "cell_type": "code",
   "execution_count": 13,
   "metadata": {},
   "outputs": [],
   "source": [
    "# Function to define features and targets for particular dataset\n",
    "\n",
    "def get_features_and_target(data, target_column):\n",
    "    \"\"\"\n",
    "    Function to separate features and target from a dataset.\n",
    "    \n",
    "    Parameters:\n",
    "    - data: DataFrame, the dataset containing both features and target.\n",
    "    - target_column: str, the name of the target column in the DataFrame.\n",
    "    \n",
    "    Returns:\n",
    "    - X: DataFrame, features (all columns except the target column).\n",
    "    - y: Series, target (selected target column).\n",
    "    \"\"\"\n",
    "    \n",
    "    X = data.drop(columns=[target_column])\n",
    "    y = data[target_column]\n",
    "    \n",
    "    return X, y"
   ]
  },
  {
   "cell_type": "code",
   "execution_count": 14,
   "metadata": {},
   "outputs": [],
   "source": [
    "# Remove features unncessary for model training\n",
    "\n",
    "data_f = data.drop(\n",
    "    ['date_crawled', 'date_created', 'last_seen', 'postal_code', 'number_of_pictures', 'registration_month']\n",
    "    , axis=1\n",
    ")"
   ]
  },
  {
   "cell_type": "code",
   "execution_count": 15,
   "metadata": {},
   "outputs": [],
   "source": [
    "# Perform OHE \n",
    "\n",
    "data_f_encoded = pd.get_dummies(data_f, drop_first=True)"
   ]
  },
  {
   "cell_type": "code",
   "execution_count": 16,
   "metadata": {},
   "outputs": [
    {
     "name": "stdout",
     "output_type": "stream",
     "text": [
      "Data Split Ratio (3:1:1)\n",
      "  Train = 60% [shape=(212621, 307)]\n",
      "  Validation = 20% [shape=(70874, 307)]\n",
      "  Test = 20% [shape=(70874, 307)]\n"
     ]
    }
   ],
   "source": [
    "# Split the data\n",
    "\n",
    "train_data_encoded, valid_data_encoded, test_data_encoded = get_data_split(\n",
    "    data_f_encoded, split_size=0.40, rnd_state=12345, shuffle=True\n",
    ")"
   ]
  },
  {
   "cell_type": "code",
   "execution_count": 17,
   "metadata": {},
   "outputs": [],
   "source": [
    "# Declare features & target for all three datasets\n",
    "\n",
    "X_train_encoded, y_train = get_features_and_target(train_data_encoded, 'price')\n",
    "X_valid_encoded, y_valid = get_features_and_target(valid_data_encoded, 'price')\n",
    "X_test_encoded, y_test = get_features_and_target(test_data_encoded, 'price')"
   ]
  },
  {
   "cell_type": "markdown",
   "metadata": {},
   "source": [
    "### Baseline Model"
   ]
  },
  {
   "cell_type": "code",
   "execution_count": 32,
   "metadata": {},
   "outputs": [
    {
     "name": "stdout",
     "output_type": "stream",
     "text": [
      "Baseline Linear Regression RMSE: 3292.5105069634646\n",
      "\n",
      "CPU times: user 13.5 s, sys: 3.95 s, total: 17.5 s\n",
      "Wall time: 17.5 s\n"
     ]
    }
   ],
   "source": [
    "%%time\n",
    "\n",
    "# Train and evaluate baseline model\n",
    "model = sklearn.linear_model.LinearRegression()\n",
    "\n",
    "# Fit model to training data\n",
    "model.fit(X_train_encoded, y_train)\n",
    "\n",
    "# Predict on validation data\n",
    "y_valid_pred = model.predict(X_valid_encoded)\n",
    "\n",
    "# Calculate RMSE for validation predictions\n",
    "linear_rmse = sklearn.metrics.mean_squared_error(y_valid, y_valid_pred, squared=False)\n",
    "best_linear_model = model\n",
    "\n",
    "print(f'Baseline Linear Regression RMSE: {linear_rmse}\\n')"
   ]
  },
  {
   "cell_type": "markdown",
   "metadata": {},
   "source": [
    "### Decision Tree Model"
   ]
  },
  {
   "cell_type": "code",
   "execution_count": 27,
   "metadata": {
    "scrolled": false
   },
   "outputs": [
    {
     "name": "stdout",
     "output_type": "stream",
     "text": [
      "Tree Regression RMSE:\n",
      "depth 1: RMSE = 3803.142525805641\n",
      "depth 6: RMSE = 2419.5521674678084\n",
      "depth 11: RMSE = 2128.677051179106\n",
      "depth 16: RMSE = 2042.251067036347\n",
      "depth 21: RMSE = 2072.52106168683\n",
      "\n",
      "CPU times: user 22.5 s, sys: 732 ms, total: 23.2 s\n",
      "Wall time: 23.2 s\n"
     ]
    }
   ],
   "source": [
    "%%time\n",
    "\n",
    "# Train and evaluate tree regressor model\n",
    "best_tree_model = None\n",
    "tree_rmse = float('inf')\n",
    "\n",
    "\n",
    "print('Tree Regression RMSE:')\n",
    "\n",
    "# Loop through depths from 1 to 20\n",
    "for depth in range(1, 22, 5):\n",
    "    # Initialize Decision Tree Regressor with specified depth and random state\n",
    "    model = sklearn.tree.DecisionTreeRegressor(random_state=12345, max_depth=depth)\n",
    "    \n",
    "    # Train the model on encoded training data\n",
    "    model.fit(X_train_encoded, y_train)\n",
    "    \n",
    "    # Predict using the trained model on encoded validation data\n",
    "    y_valid_pred = model.predict(X_valid_encoded)\n",
    "    \n",
    "    # Calculate RMSE between predicted and actual validation targets\n",
    "    rmse = sklearn.metrics.mean_squared_error(y_valid, y_valid_pred, squared=False)\n",
    "    \n",
    "    # Saving the best model\n",
    "    if rmse < tree_rmse:\n",
    "        tree_rmse = rmse\n",
    "        best_tree_model = model\n",
    "    \n",
    "    # Print depth and corresponding RMSE\n",
    "    print(f'depth {depth}: RMSE = {rmse}')\n",
    "\n",
    "print()"
   ]
  },
  {
   "cell_type": "markdown",
   "metadata": {},
   "source": [
    "### Random Forest Model"
   ]
  },
  {
   "cell_type": "code",
   "execution_count": 29,
   "metadata": {},
   "outputs": [
    {
     "name": "stdout",
     "output_type": "stream",
     "text": [
      "Random Forest RMSE:\n",
      "depth 15, n_est 1: RMSE = 2119.340960626782\n",
      "depth 15, n_est 6: RMSE = 1903.496526655566\n",
      "depth 15, n_est 11: RMSE = 1888.9407360639354\n",
      "depth 15, n_est 16: RMSE = 1881.7324654281567\n",
      "\n",
      "CPU times: user 2min 13s, sys: 674 ms, total: 2min 14s\n",
      "Wall time: 2min 14s\n"
     ]
    }
   ],
   "source": [
    "%%time\n",
    "\n",
    "# Train and evaluate random forest regressor model at depth = 15\n",
    "\n",
    "best_forest_model = None\n",
    "forest_rmse = float('inf')\n",
    "\n",
    "print('Random Forest RMSE:')\n",
    "\n",
    "# Loop through different numbers of estimators (1, 6, 11, 16, 21)\n",
    "for est in range(1, 20, 5):\n",
    "    # Initialize and train the Random Forest Regressor\n",
    "    model = sklearn.ensemble.RandomForestRegressor(random_state=12345, max_depth=15, n_estimators=est)\n",
    "    model.fit(X_train_encoded, y_train)\n",
    "\n",
    "    # Predict on validation data\n",
    "    y_valid_pred = model.predict(X_valid_encoded)\n",
    "    \n",
    "    # Calculate RMSE between predicted and actual validation targets\n",
    "    rmse = sklearn.metrics.mean_squared_error(y_valid, y_valid_pred, squared=False)\n",
    "    \n",
    "    # Print depth and corresponding RMSE\n",
    "    print(f'depth {model.max_depth}, n_est {est}: RMSE = {rmse}')\n",
    "    \n",
    "    if rmse < forest_rmse:\n",
    "        forest_rmse = rmse\n",
    "        best_forest_model = model\n",
    "    \n",
    "print()"
   ]
  },
  {
   "cell_type": "markdown",
   "metadata": {},
   "source": [
    "### Light GBM Model"
   ]
  },
  {
   "cell_type": "code",
   "execution_count": 34,
   "metadata": {},
   "outputs": [
    {
     "name": "stdout",
     "output_type": "stream",
     "text": [
      "depth 1, est 100, learn_rate 0.1: RMSE = 2651.7218895375545\n",
      "depth 1, est 200, learn_rate 0.1: RMSE = 2453.549929267002\n",
      "depth 1, est 300, learn_rate 0.1: RMSE = 2375.6748192692858\n",
      "depth 1, est 400, learn_rate 0.1: RMSE = 2335.596324731781\n",
      "depth 1, est 500, learn_rate 0.1: RMSE = 2310.542540659227\n",
      "depth 6, est 100, learn_rate 0.1: RMSE = 1917.22613836344\n",
      "depth 6, est 200, learn_rate 0.1: RMSE = 1863.1239325037507\n",
      "depth 6, est 300, learn_rate 0.1: RMSE = 1838.966475430778\n",
      "depth 6, est 400, learn_rate 0.1: RMSE = 1822.6344624464818\n",
      "depth 6, est 500, learn_rate 0.1: RMSE = 1812.1530081447722\n",
      "depth 11, est 100, learn_rate 0.1: RMSE = 1875.9228500225022\n",
      "depth 11, est 200, learn_rate 0.1: RMSE = 1830.1312973039755\n",
      "depth 11, est 300, learn_rate 0.1: RMSE = 1804.3611943515955\n",
      "depth 11, est 400, learn_rate 0.1: RMSE = 1788.703597903185\n",
      "depth 11, est 500, learn_rate 0.1: RMSE = 1778.471686067478\n",
      "depth 16, est 100, learn_rate 0.1: RMSE = 1872.1024399200135\n",
      "depth 16, est 200, learn_rate 0.1: RMSE = 1825.227815916464\n",
      "depth 16, est 300, learn_rate 0.1: RMSE = 1802.858095272052\n",
      "depth 16, est 400, learn_rate 0.1: RMSE = 1788.379469109813\n",
      "depth 16, est 500, learn_rate 0.1: RMSE = 1777.6785510576701\n",
      "depth 1, est 100, learn_rate 0.25: RMSE = 2399.7345452208215\n",
      "depth 1, est 200, learn_rate 0.25: RMSE = 2309.3588539565967\n",
      "depth 1, est 300, learn_rate 0.25: RMSE = 2272.446763218988\n",
      "depth 1, est 400, learn_rate 0.25: RMSE = 2251.655740051514\n",
      "depth 1, est 500, learn_rate 0.25: RMSE = 2238.406901515807\n",
      "depth 6, est 100, learn_rate 0.25: RMSE = 1857.7980534074643\n",
      "depth 6, est 200, learn_rate 0.25: RMSE = 1810.4532113263717\n",
      "depth 6, est 300, learn_rate 0.25: RMSE = 1790.0103691007957\n",
      "depth 6, est 400, learn_rate 0.25: RMSE = 1777.9779818838178\n",
      "depth 6, est 500, learn_rate 0.25: RMSE = 1768.8592585309366\n",
      "depth 11, est 100, learn_rate 0.25: RMSE = 1831.1180081182238\n",
      "depth 11, est 200, learn_rate 0.25: RMSE = 1794.7243076777202\n",
      "depth 11, est 300, learn_rate 0.25: RMSE = 1774.8339489757936\n",
      "depth 11, est 400, learn_rate 0.25: RMSE = 1761.3561484739814\n",
      "depth 11, est 500, learn_rate 0.25: RMSE = 1755.2853344431321\n",
      "depth 16, est 100, learn_rate 0.25: RMSE = 1824.4252252389622\n",
      "depth 16, est 200, learn_rate 0.25: RMSE = 1784.7850310055449\n",
      "depth 16, est 300, learn_rate 0.25: RMSE = 1766.5504468716522\n",
      "depth 16, est 400, learn_rate 0.25: RMSE = 1756.0883874725569\n",
      "depth 16, est 500, learn_rate 0.25: RMSE = 1749.9829523162127\n",
      "\n",
      "CPU times: user 7min 15s, sys: 9.15 s, total: 7min 24s\n",
      "Wall time: 7min 27s\n"
     ]
    }
   ],
   "source": [
    "%%time\n",
    "\n",
    "learn_rate_list = [0.1, 0.25]\n",
    "max_depth_list = [1, 6, 11, 16]\n",
    "n_est_list = list(range(100, 501, 100))\n",
    "\n",
    "lgbm_rmse = float('inf')\n",
    "best_lgbm_model = None\n",
    "\n",
    "for learn_rate in learn_rate_list:\n",
    "    for max_depth in max_depth_list:\n",
    "        for n_est in n_est_list:\n",
    "            model = lgb.LGBMRegressor(random_state=12345, n_estimators=n_est, learning_rate=learn_rate, max_depth=max_depth)\n",
    "            model.fit(X_train_encoded, y_train)\n",
    "            y_valid_pred = model.predict(X_valid_encoded)\n",
    "            rmse = sklearn.metrics.mean_squared_error(y_valid, y_valid_pred, squared=False)\n",
    "            \n",
    "            if rmse < lgbm_rmse:\n",
    "                lgbm_rmse = rmse\n",
    "                best_lgbm_model = model\n",
    "            \n",
    "            print(f'depth {max_depth}, est {n_est}, learn_rate {learn_rate}: RMSE = {rmse}')\n",
    "\n",
    "print()"
   ]
  },
  {
   "cell_type": "code",
   "execution_count": 40,
   "metadata": {},
   "outputs": [
    {
     "name": "stdout",
     "output_type": "stream",
     "text": [
      "{'Decision Tree': {'Model': DecisionTreeRegressor(max_depth=16, random_state=12345),\n",
      "                   'RMSE': 2042.251067036347},\n",
      " 'LightGBM': {'Model': LGBMRegressor(learning_rate=0.25, max_depth=16, n_estimators=500,\n",
      "              random_state=12345),\n",
      "              'RMSE': 1749.9829523162127},\n",
      " 'Linear Regression': {'Model': LinearRegression(), 'RMSE': 3292.5105069634646},\n",
      " 'Random Forest': {'Model': RandomForestRegressor(max_depth=15, n_estimators=16, random_state=12345),\n",
      "                   'RMSE': 1881.7324654281567}}\n"
     ]
    }
   ],
   "source": [
    "# Format and print out models the led to best RMSE values\n",
    "\n",
    "models = {\n",
    "    \"Linear Regression\": {\n",
    "        \"Model\": best_linear_model,\n",
    "        \"RMSE\": linear_rmse\n",
    "    },\n",
    "    \"Decision Tree\": {\n",
    "        \"Model\": best_tree_model,\n",
    "        \"RMSE\": tree_rmse\n",
    "    },\n",
    "    \"Random Forest\": {\n",
    "        \"Model\": best_forest_model,\n",
    "        \"RMSE\": forest_rmse\n",
    "    },\n",
    "    \"LightGBM\": {\n",
    "        \"Model\": best_lgbm_model,\n",
    "        \"RMSE\": lgbm_rmse\n",
    "    }\n",
    "}\n",
    "\n",
    "pprint.pprint(models)"
   ]
  },
  {
   "cell_type": "markdown",
   "metadata": {},
   "source": [
    "**Findings**\n",
    "\n",
    "After testing various models with different hyperparameters, the models achieving the lowest RMSE values were duly recorded. The results clearly indicate that LightGBM performed the best with a learning rate of 0.25, a max depth of 16, and 500 estimators. The Random Forest Regressor was the second-best model, followed by the Decision Tree."
   ]
  },
  {
   "cell_type": "markdown",
   "metadata": {},
   "source": [
    "## Model Analysis"
   ]
  },
  {
   "cell_type": "markdown",
   "metadata": {},
   "source": [
    "### Baseline Model"
   ]
  },
  {
   "cell_type": "code",
   "execution_count": 48,
   "metadata": {},
   "outputs": [
    {
     "name": "stdout",
     "output_type": "stream",
     "text": [
      "Linear RMSE:\n",
      "RMSE = 3251.97177649985\n",
      "Training time: 16.42 seconds\n",
      "Prediction time: 0.2 seconds\n"
     ]
    }
   ],
   "source": [
    "print('Linear RMSE:')\n",
    "\n",
    "# Initialize Random Forest Regressor with specified depth and random state\n",
    "model = sklearn.linear_model.LinearRegression()\n",
    "\n",
    "# Measure training time\n",
    "start_train_time = time.time()\n",
    "model.fit(X_train_encoded, y_train)\n",
    "end_train_time = time.time()\n",
    "\n",
    "linear_train_time = round((end_train_time - start_train_time), 2)\n",
    "\n",
    "# Measure prediction time\n",
    "start_pred_time = time.time()\n",
    "y_test_pred = model.predict(X_test_encoded)\n",
    "end_pred_time = time.time()\n",
    "\n",
    "linear_pred_time = round((end_pred_time - start_pred_time), 2)\n",
    "\n",
    "# Calculate RMSE between predicted and actual validation targets\n",
    "linear_rmse = sklearn.metrics.mean_squared_error(y_test, y_test_pred, squared=False)\n",
    "\n",
    "# Print depth, RMSE, training time, and prediction time\n",
    "print(f'RMSE = {linear_rmse}')\n",
    "print(f'Training time: {linear_train_time} seconds')\n",
    "print(f'Prediction time: {linear_pred_time} seconds')"
   ]
  },
  {
   "cell_type": "markdown",
   "metadata": {},
   "source": [
    "### Decision Tree"
   ]
  },
  {
   "cell_type": "code",
   "execution_count": 58,
   "metadata": {},
   "outputs": [
    {
     "name": "stdout",
     "output_type": "stream",
     "text": [
      "Tree Regression RMSE:\n",
      "RMSE = 2039.9536031418172\n",
      "Training time: 6.46 seconds\n",
      "Prediction time: 0.09 seconds\n"
     ]
    }
   ],
   "source": [
    "print('Tree Regression RMSE:')\n",
    "\n",
    "# Initialize Decision Tree Regressor with specified depth and random state\n",
    "model = sklearn.tree.DecisionTreeRegressor(random_state=12345, max_depth=16)\n",
    "\n",
    "# Measure training time\n",
    "start_train_time = time.time()\n",
    "model.fit(X_train_encoded, y_train)\n",
    "end_train_time = time.time()\n",
    "tree_train_time = round((end_train_time - start_train_time), 2)\n",
    "\n",
    "# Measure prediction time\n",
    "start_pred_time = time.time()\n",
    "y_test_pred = model.predict(X_test_encoded)\n",
    "end_pred_time = time.time()\n",
    "tree_pred_time = round((end_pred_time - start_pred_time), 2)\n",
    "\n",
    "# Calculate RMSE between predicted and actual validation targets\n",
    "tree_rmse = sklearn.metrics.mean_squared_error(y_test, y_test_pred, squared=False)\n",
    "\n",
    "# Print depth, RMSE, training time, and prediction time\n",
    "print(f'RMSE = {tree_rmse}')\n",
    "print(f'Training time: {tree_train_time} seconds')\n",
    "print(f'Prediction time: {tree_pred_time} seconds')"
   ]
  },
  {
   "cell_type": "markdown",
   "metadata": {},
   "source": [
    "### Random Forest "
   ]
  },
  {
   "cell_type": "code",
   "execution_count": 46,
   "metadata": {},
   "outputs": [
    {
     "name": "stdout",
     "output_type": "stream",
     "text": [
      "Random Forest RMSE:\n",
      "depth 16: RMSE = 1863.750709164652\n",
      "Training time: 62.72 seconds\n",
      "Prediction time: 0.33 seconds\n"
     ]
    }
   ],
   "source": [
    "print('Random Forest RMSE:')\n",
    "\n",
    "# Initialize Random Forest Regressor with specified depth and random state\n",
    "model = sklearn.ensemble.RandomForestRegressor(random_state=12345, max_depth=15, n_estimators=16)\n",
    "\n",
    "# Measure training time\n",
    "start_train_time = time.time()\n",
    "model.fit(X_train_encoded, y_train)\n",
    "end_train_time = time.time()\n",
    "\n",
    "forest_train_time = round((end_train_time - start_train_time), 2)\n",
    "\n",
    "# Measure prediction time\n",
    "start_pred_time = time.time()\n",
    "y_test_pred = model.predict(X_test_encoded)\n",
    "end_pred_time = time.time()\n",
    "\n",
    "forest_pred_time = round((end_pred_time - start_pred_time), 2)\n",
    "\n",
    "# Calculate RMSE between predicted and actual validation targets\n",
    "forest_rmse = sklearn.metrics.mean_squared_error(y_test, y_test_pred, squared=False)\n",
    "\n",
    "# Print depth, RMSE, training time, and prediction time\n",
    "print(f'RMSE = {forest_rmse}')\n",
    "print(f'Training time: {forest_train_time} seconds')\n",
    "print(f'Prediction time: {forest_pred_time} seconds')"
   ]
  },
  {
   "cell_type": "markdown",
   "metadata": {},
   "source": [
    "### Light GBM"
   ]
  },
  {
   "cell_type": "code",
   "execution_count": 53,
   "metadata": {},
   "outputs": [
    {
     "name": "stdout",
     "output_type": "stream",
     "text": [
      "Light GBM RMSE:\n",
      "RMSE = 1737.7565337626654\n",
      "Training time: 12.04 seconds\n",
      "Prediction time: 3.02 seconds\n"
     ]
    }
   ],
   "source": [
    "print('Light GBM RMSE:')\n",
    "\n",
    "# Initialize Random Forest Regressor with specified depth and random state\n",
    "model = lgb.LGBMRegressor(random_state=12345, n_estimators=500, learning_rate=0.25, max_depth=16)\n",
    "\n",
    "# Measure training time\n",
    "start_train_time = time.time()\n",
    "model.fit(X_train_encoded, y_train)\n",
    "end_train_time = time.time()\n",
    "\n",
    "lgbm_train_time = round((end_train_time - start_train_time), 2)\n",
    "\n",
    "# Measure prediction time\n",
    "start_pred_time = time.time()\n",
    "y_test_pred = model.predict(X_test_encoded)\n",
    "end_pred_time = time.time()\n",
    "\n",
    "lgbm_pred_time = round((end_pred_time - start_pred_time), 2)\n",
    "\n",
    "# Calculate RMSE between predicted and actual validation targets\n",
    "lgbm_rmse = sklearn.metrics.mean_squared_error(y_test, y_test_pred, squared=False)\n",
    "\n",
    "# Print depth, RMSE, training time, and prediction time\n",
    "print(f'RMSE = {lgbm_rmse}')\n",
    "print(f'Training time: {lgbm_train_time} seconds')\n",
    "print(f'Prediction time: {lgbm_pred_time} seconds')"
   ]
  },
  {
   "cell_type": "code",
   "execution_count": 61,
   "metadata": {},
   "outputs": [],
   "source": [
    "# Consolidate data into dicts\n",
    "\n",
    "rmse_values = {\n",
    "    'Linear Regression': linear_rmse,\n",
    "    'Decision Tree': tree_rmse,\n",
    "    'Random Forest': forest_rmse,\n",
    "    'LightGBM': lgbm_rmse\n",
    "}\n",
    "\n",
    "training_times = {\n",
    "    'Linear Regression': linear_train_time,\n",
    "    'Decision Tree': tree_train_time,\n",
    "    'Random Forest': forest_train_time,\n",
    "    'LightGBM': lgbm_train_time\n",
    "}\n",
    "\n",
    "prediction_times = {\n",
    "    'Linear Regression': linear_pred_time,\n",
    "    'Decision Tree': tree_pred_time,\n",
    "    'Random Forest': forest_pred_time,\n",
    "    'LightGBM': lgbm_pred_time\n",
    "}"
   ]
  },
  {
   "cell_type": "code",
   "execution_count": 62,
   "metadata": {
    "scrolled": true
   },
   "outputs": [
    {
     "name": "stdout",
     "output_type": "stream",
     "text": [
      "RMSE Values:\n",
      "{'Decision Tree': 2039.9536031418172,\n",
      " 'LightGBM': 1737.7565337626654,\n",
      " 'Linear Regression': 3251.97177649985,\n",
      " 'Random Forest': 1863.750709164652}\n",
      "\n",
      "Train Times:\n",
      "{'Decision Tree': 6.46,\n",
      " 'LightGBM': 12.04,\n",
      " 'Linear Regression': 16.42,\n",
      " 'Random Forest': 62.72}\n",
      "\n",
      "Prediction Times:\n",
      "{'Decision Tree': 0.09,\n",
      " 'LightGBM': 3.02,\n",
      " 'Linear Regression': 0.2,\n",
      " 'Random Forest': 0.33}\n"
     ]
    }
   ],
   "source": [
    "print('RMSE Values:')\n",
    "pprint.pprint(rmse_values)\n",
    "\n",
    "print()\n",
    "print('Train Times:')\n",
    "pprint.pprint(training_times)\n",
    "\n",
    "print()\n",
    "print('Prediction Times:')\n",
    "pprint.pprint(prediction_times)"
   ]
  },
  {
   "cell_type": "code",
   "execution_count": 85,
   "metadata": {},
   "outputs": [
    {
     "data": {
      "image/png": "[encoded data removed]",
      "text/plain": [
       "<Figure size 1000x800 with 4 Axes>"
      ]
     },
     "metadata": {},
     "output_type": "display_data"
    }
   ],
   "source": [
    "# Compare RMSE, Train and Predict Values\n",
    "\n",
    "fig, axes = plt.subplots(2, 2, figsize=(10, 8)) \n",
    "\n",
    "# RMSE comparison\n",
    "axes[0, 0].bar(rmse_values.keys(), rmse_values.values(), color=['blue', 'green', 'orange', 'red'])\n",
    "axes[0, 0].set_ylabel('RMSE')\n",
    "axes[0, 0].set_title('Model RMSE Comparison')\n",
    "axes[0, 0].tick_params(axis='x', rotation=45) \n",
    "\n",
    "# Train Time comparison\n",
    "axes[0, 1].bar(training_times.keys(), training_times.values(), color=['blue', 'green', 'orange', 'red'])\n",
    "axes[0, 1].set_ylabel('Training Time (s)')\n",
    "axes[0, 1].set_title('Model Training Time Comparison')\n",
    "axes[0, 1].tick_params(axis='x', rotation=45) \n",
    "\n",
    "# Prediction Time comparison\n",
    "axes[1, 0].bar(prediction_times.keys(), prediction_times.values(), color=['blue', 'green', 'orange', 'red'])\n",
    "axes[1, 0].set_xlabel('Model')\n",
    "axes[1, 0].set_ylabel('Prediction Time (s)')\n",
    "axes[1, 0].set_title('Model Prediction Time Comparison')\n",
    "axes[1, 0].tick_params(axis='x', rotation=45)\n",
    "\n",
    "# Hide the empty subplot at bottom-right corner\n",
    "axes[1, 1].axis('off')\n",
    "\n",
    "plt.tight_layout()\n",
    "plt.show()"
   ]
  },
  {
   "cell_type": "markdown",
   "metadata": {},
   "source": [
    "**Findings**\n",
    "\n",
    "Each model exhibits distinct capabilities and constraints. Upon training each model with its optimal parameters and evaluating them with test data, the results reflected patterns observed during training. Specifically, the Light GBM model achieved a lower RMSE score when trained with its optimal hyperparameters. In terms of training speed, the Light GBM model ranked second, just behind the decision tree regressor, which was notably faster than the Random Forest Regressor, despite the latter achieving the second lowest RMSE score. However, the prediction time for the Light GBM model was slightly slower compared to the other models, albeit by a marginal difference."
   ]
  },
  {
   "cell_type": "markdown",
   "metadata": {},
   "source": [
    "## Conclusion"
   ]
  },
  {
   "cell_type": "markdown",
   "metadata": {},
   "source": [
    "The integration of LightGBM into the Rusty Bargain app's framework marks a significant enhancement in predictive accuracy and speed for vehicle valuations. LightGBM has proven its superiority over other models by effectively minimizing RMSE, thereby ensuring precise valuations that users can rely on.\n",
    "\n",
    "One of the key advantages of LightGBM lies in its ability to deliver fast predictions without compromising accuracy. This efficiency is crucial for maintaining a seamless user experience, allowing Rusty Bargain app users to receive prompt and reliable valuations based on comprehensive data and specifications.\n",
    "\n",
    "The decision to adopt LightGBM underscores a strategic approach aimed at leveraging advanced machine learning techniques to enhance the app's capabilities. By optimizing both prediction accuracy and speed, Rusty Bargain ensures that its users benefit from dependable and efficient vehicle valuations, setting a new standard in the industry."
   ]
  }
 ],
 "metadata": {
  "ExecuteTimeLog": [
   {
    "duration": 1463,
    "start_time": "2024-06-13T11:34:16.613Z"
   },
   {
    "duration": 3967,
    "start_time": "2024-06-13T11:34:51.084Z"
   },
   {
    "duration": 792,
    "start_time": "2024-06-13T11:36:45.421Z"
   },
   {
    "duration": 7,
    "start_time": "2024-06-13T11:36:54.723Z"
   },
   {
    "duration": 34,
    "start_time": "2024-06-13T11:36:59.639Z"
   },
   {
    "duration": 3,
    "start_time": "2024-06-13T11:39:59.267Z"
   },
   {
    "duration": 8,
    "start_time": "2024-06-13T11:40:12.354Z"
   },
   {
    "duration": 5,
    "start_time": "2024-06-13T11:40:15.712Z"
   },
   {
    "duration": 6,
    "start_time": "2024-06-13T11:40:20.656Z"
   },
   {
    "duration": 3,
    "start_time": "2024-06-13T11:40:34.205Z"
   },
   {
    "duration": 3,
    "start_time": "2024-06-13T11:40:42.919Z"
   },
   {
    "duration": 4,
    "start_time": "2024-06-13T11:40:49.136Z"
   },
   {
    "duration": 37,
    "start_time": "2024-06-13T11:42:43.786Z"
   },
   {
    "duration": 5,
    "start_time": "2024-06-13T11:42:54.651Z"
   },
   {
    "duration": 5,
    "start_time": "2024-06-13T11:43:09.616Z"
   },
   {
    "duration": 7,
    "start_time": "2024-06-13T11:43:39.606Z"
   },
   {
    "duration": 9,
    "start_time": "2024-06-13T11:44:11.295Z"
   },
   {
    "duration": 32,
    "start_time": "2024-06-13T11:44:20.194Z"
   },
   {
    "duration": 1509,
    "start_time": "2024-06-13T11:45:04.330Z"
   },
   {
    "duration": 5,
    "start_time": "2024-06-13T11:45:52.910Z"
   },
   {
    "duration": 33,
    "start_time": "2024-06-13T11:45:57.413Z"
   },
   {
    "duration": 36,
    "start_time": "2024-06-13T11:46:10.926Z"
   },
   {
    "duration": 5,
    "start_time": "2024-06-13T11:46:25.640Z"
   },
   {
    "duration": 147,
    "start_time": "2024-06-13T11:46:58.797Z"
   },
   {
    "duration": 154,
    "start_time": "2024-06-13T11:47:31.388Z"
   },
   {
    "duration": 1172,
    "start_time": "2024-06-13T11:47:47.053Z"
   },
   {
    "duration": 735,
    "start_time": "2024-06-13T11:47:48.232Z"
   },
   {
    "duration": 162,
    "start_time": "2024-06-13T11:47:48.971Z"
   },
   {
    "duration": 5,
    "start_time": "2024-06-13T11:47:49.136Z"
   },
   {
    "duration": 25,
    "start_time": "2024-06-13T11:52:29.983Z"
   },
   {
    "duration": 8,
    "start_time": "2024-06-13T11:53:54.324Z"
   },
   {
    "duration": 21,
    "start_time": "2024-06-13T11:54:01.462Z"
   },
   {
    "duration": 20,
    "start_time": "2024-06-13T11:54:49.283Z"
   },
   {
    "duration": 220,
    "start_time": "2024-06-13T11:55:33.769Z"
   },
   {
    "duration": 43,
    "start_time": "2024-06-13T11:55:49.912Z"
   },
   {
    "duration": 269,
    "start_time": "2024-06-13T11:56:13.475Z"
   },
   {
    "duration": 71,
    "start_time": "2024-06-13T11:56:19.637Z"
   },
   {
    "duration": 7,
    "start_time": "2024-06-13T11:56:35.599Z"
   },
   {
    "duration": 5,
    "start_time": "2024-06-13T11:56:46.594Z"
   },
   {
    "duration": 1337,
    "start_time": "2024-06-13T11:56:55.610Z"
   },
   {
    "duration": 134,
    "start_time": "2024-06-13T11:57:38.700Z"
   },
   {
    "duration": 135,
    "start_time": "2024-06-13T11:58:05.673Z"
   },
   {
    "duration": 136,
    "start_time": "2024-06-13T11:58:20.483Z"
   },
   {
    "duration": 25,
    "start_time": "2024-06-13T11:59:28.025Z"
   },
   {
    "duration": 142,
    "start_time": "2024-06-13T12:00:18.917Z"
   },
   {
    "duration": 41,
    "start_time": "2024-06-13T12:03:07.799Z"
   },
   {
    "duration": 40,
    "start_time": "2024-06-13T12:03:43.986Z"
   },
   {
    "duration": 66,
    "start_time": "2024-06-13T12:04:49.090Z"
   },
   {
    "duration": 58,
    "start_time": "2024-06-13T12:05:19.813Z"
   },
   {
    "duration": 341,
    "start_time": "2024-06-13T12:05:30.195Z"
   },
   {
    "duration": 313,
    "start_time": "2024-06-13T12:05:55.724Z"
   },
   {
    "duration": 313,
    "start_time": "2024-06-13T12:06:03.405Z"
   },
   {
    "duration": 401,
    "start_time": "2024-06-13T12:06:26.680Z"
   },
   {
    "duration": 324,
    "start_time": "2024-06-13T12:07:11.547Z"
   },
   {
    "duration": 332,
    "start_time": "2024-06-13T12:07:32.189Z"
   },
   {
    "duration": 316,
    "start_time": "2024-06-13T12:07:38.919Z"
   },
   {
    "duration": 34,
    "start_time": "2024-06-13T12:14:27.461Z"
   },
   {
    "duration": 23,
    "start_time": "2024-06-13T12:14:42.350Z"
   },
   {
    "duration": 27,
    "start_time": "2024-06-13T12:15:02.393Z"
   },
   {
    "duration": 39,
    "start_time": "2024-06-13T12:15:13.589Z"
   },
   {
    "duration": 62,
    "start_time": "2024-06-13T12:16:43.317Z"
   },
   {
    "duration": 1182,
    "start_time": "2024-06-13T12:16:51.679Z"
   },
   {
    "duration": 744,
    "start_time": "2024-06-13T12:16:52.865Z"
   },
   {
    "duration": 151,
    "start_time": "2024-06-13T12:16:53.613Z"
   },
   {
    "duration": 24,
    "start_time": "2024-06-13T12:16:53.769Z"
   },
   {
    "duration": 37,
    "start_time": "2024-06-13T12:16:53.796Z"
   },
   {
    "duration": 322,
    "start_time": "2024-06-13T12:16:53.835Z"
   },
   {
    "duration": 76,
    "start_time": "2024-06-13T12:16:54.160Z"
   },
   {
    "duration": 139,
    "start_time": "2024-06-13T12:17:08.037Z"
   },
   {
    "duration": 6,
    "start_time": "2024-06-13T12:18:04.705Z"
   },
   {
    "duration": 100,
    "start_time": "2024-06-13T12:18:09.653Z"
   },
   {
    "duration": 139,
    "start_time": "2024-06-13T12:18:10.430Z"
   },
   {
    "duration": 7,
    "start_time": "2024-06-13T12:19:07.943Z"
   },
   {
    "duration": 665,
    "start_time": "2024-06-13T12:19:12.460Z"
   },
   {
    "duration": 34,
    "start_time": "2024-06-13T12:19:33.656Z"
   },
   {
    "duration": 97,
    "start_time": "2024-06-13T12:19:42.087Z"
   },
   {
    "duration": 393,
    "start_time": "2024-06-13T12:22:36.017Z"
   },
   {
    "duration": 30,
    "start_time": "2024-06-13T12:22:51.211Z"
   },
   {
    "duration": 182,
    "start_time": "2024-06-13T12:23:27.350Z"
   },
   {
    "duration": 176,
    "start_time": "2024-06-13T12:23:32.550Z"
   },
   {
    "duration": 390,
    "start_time": "2024-06-13T12:24:36.770Z"
   },
   {
    "duration": 388,
    "start_time": "2024-06-13T12:24:41.013Z"
   },
   {
    "duration": 32,
    "start_time": "2024-06-13T12:35:28.916Z"
   },
   {
    "duration": 26,
    "start_time": "2024-06-13T12:38:14.581Z"
   },
   {
    "duration": 20,
    "start_time": "2024-06-13T12:38:19.812Z"
   },
   {
    "duration": 45,
    "start_time": "2024-06-13T12:39:29.769Z"
   },
   {
    "duration": 6,
    "start_time": "2024-06-13T12:40:18.383Z"
   },
   {
    "duration": 24,
    "start_time": "2024-06-13T12:40:29.024Z"
   },
   {
    "duration": 25,
    "start_time": "2024-06-13T12:40:43.327Z"
   },
   {
    "duration": 26,
    "start_time": "2024-06-13T12:40:47.089Z"
   },
   {
    "duration": 23,
    "start_time": "2024-06-13T12:40:54.856Z"
   },
   {
    "duration": 6,
    "start_time": "2024-06-13T12:41:33.309Z"
   },
   {
    "duration": 304,
    "start_time": "2024-06-13T12:43:24.928Z"
   },
   {
    "duration": 1160,
    "start_time": "2024-06-13T12:43:31.308Z"
   },
   {
    "duration": 7,
    "start_time": "2024-06-13T12:45:00.581Z"
   },
   {
    "duration": 134,
    "start_time": "2024-06-13T12:45:22.754Z"
   },
   {
    "duration": 1154,
    "start_time": "2024-06-13T12:45:39.837Z"
   },
   {
    "duration": 725,
    "start_time": "2024-06-13T12:45:40.994Z"
   },
   {
    "duration": 157,
    "start_time": "2024-06-13T12:45:41.722Z"
   },
   {
    "duration": 53,
    "start_time": "2024-06-13T12:45:41.884Z"
   },
   {
    "duration": 6,
    "start_time": "2024-06-13T12:45:41.940Z"
   },
   {
    "duration": 337,
    "start_time": "2024-06-13T12:45:41.949Z"
   },
   {
    "duration": 118,
    "start_time": "2024-06-13T12:45:42.291Z"
   },
   {
    "duration": 100,
    "start_time": "2024-06-13T12:45:42.412Z"
   },
   {
    "duration": 404,
    "start_time": "2024-06-13T12:45:42.515Z"
   },
   {
    "duration": 0,
    "start_time": "2024-06-13T12:45:42.922Z"
   },
   {
    "duration": 0,
    "start_time": "2024-06-13T12:45:42.925Z"
   },
   {
    "duration": 8,
    "start_time": "2024-06-13T12:45:57.102Z"
   },
   {
    "duration": 7,
    "start_time": "2024-06-13T12:45:59.971Z"
   },
   {
    "duration": 7,
    "start_time": "2024-06-13T12:46:07.326Z"
   },
   {
    "duration": 18,
    "start_time": "2024-06-13T12:46:22.188Z"
   },
   {
    "duration": 14,
    "start_time": "2024-06-13T12:46:49.979Z"
   },
   {
    "duration": 16,
    "start_time": "2024-06-13T12:46:55.176Z"
   },
   {
    "duration": 5,
    "start_time": "2024-06-13T12:47:08.873Z"
   },
   {
    "duration": 410,
    "start_time": "2024-06-13T12:47:15.728Z"
   },
   {
    "duration": 31,
    "start_time": "2024-06-13T12:47:16.605Z"
   },
   {
    "duration": 20,
    "start_time": "2024-06-13T12:49:22.386Z"
   },
   {
    "duration": 1486,
    "start_time": "2024-06-13T13:02:29.641Z"
   },
   {
    "duration": 29,
    "start_time": "2024-06-13T13:02:50.091Z"
   },
   {
    "duration": 61,
    "start_time": "2024-06-13T13:02:56.914Z"
   },
   {
    "duration": 30,
    "start_time": "2024-06-13T13:03:12.817Z"
   },
   {
    "duration": 39,
    "start_time": "2024-06-13T13:03:30.030Z"
   },
   {
    "duration": 27,
    "start_time": "2024-06-13T13:03:34.074Z"
   },
   {
    "duration": 272,
    "start_time": "2024-06-13T13:07:20.755Z"
   },
   {
    "duration": 4,
    "start_time": "2024-06-13T13:08:21.595Z"
   },
   {
    "duration": 8,
    "start_time": "2024-06-13T13:17:41.373Z"
   },
   {
    "duration": 154,
    "start_time": "2024-06-13T13:18:23.141Z"
   },
   {
    "duration": 6,
    "start_time": "2024-06-13T13:18:36.553Z"
   },
   {
    "duration": 161,
    "start_time": "2024-06-13T13:18:37.128Z"
   },
   {
    "duration": 12,
    "start_time": "2024-06-13T13:19:17.941Z"
   },
   {
    "duration": 183,
    "start_time": "2024-06-13T13:19:18.361Z"
   },
   {
    "duration": 12,
    "start_time": "2024-06-13T13:19:23.875Z"
   },
   {
    "duration": 192,
    "start_time": "2024-06-13T13:19:24.091Z"
   },
   {
    "duration": 7,
    "start_time": "2024-06-13T13:19:43.141Z"
   },
   {
    "duration": 181,
    "start_time": "2024-06-13T13:19:44.255Z"
   },
   {
    "duration": 9,
    "start_time": "2024-06-13T13:19:50.366Z"
   },
   {
    "duration": 8,
    "start_time": "2024-06-13T13:20:07.354Z"
   },
   {
    "duration": 207,
    "start_time": "2024-06-13T13:20:08.467Z"
   },
   {
    "duration": 8,
    "start_time": "2024-06-13T13:20:25.097Z"
   },
   {
    "duration": 187,
    "start_time": "2024-06-13T13:20:25.777Z"
   },
   {
    "duration": 6,
    "start_time": "2024-06-13T13:20:30.747Z"
   },
   {
    "duration": 186,
    "start_time": "2024-06-13T13:20:31.435Z"
   },
   {
    "duration": 7,
    "start_time": "2024-06-13T13:20:45.660Z"
   },
   {
    "duration": 170,
    "start_time": "2024-06-13T13:20:46.795Z"
   },
   {
    "duration": 10,
    "start_time": "2024-06-13T13:20:50.478Z"
   },
   {
    "duration": 186,
    "start_time": "2024-06-13T13:20:50.665Z"
   },
   {
    "duration": 7,
    "start_time": "2024-06-13T13:21:05.898Z"
   },
   {
    "duration": 165,
    "start_time": "2024-06-13T13:21:06.090Z"
   },
   {
    "duration": 8,
    "start_time": "2024-06-13T13:21:13.347Z"
   },
   {
    "duration": 146,
    "start_time": "2024-06-13T13:21:13.541Z"
   },
   {
    "duration": 8,
    "start_time": "2024-06-13T13:21:20.111Z"
   },
   {
    "duration": 151,
    "start_time": "2024-06-13T13:21:20.457Z"
   },
   {
    "duration": 8,
    "start_time": "2024-06-13T13:21:32.661Z"
   },
   {
    "duration": 163,
    "start_time": "2024-06-13T13:21:33.320Z"
   },
   {
    "duration": 6,
    "start_time": "2024-06-13T13:21:40.005Z"
   },
   {
    "duration": 143,
    "start_time": "2024-06-13T13:21:40.217Z"
   },
   {
    "duration": 8,
    "start_time": "2024-06-13T13:21:56.995Z"
   },
   {
    "duration": 150,
    "start_time": "2024-06-13T13:21:57.187Z"
   },
   {
    "duration": 7,
    "start_time": "2024-06-13T13:22:49.039Z"
   },
   {
    "duration": 146,
    "start_time": "2024-06-13T13:22:49.214Z"
   },
   {
    "duration": 11,
    "start_time": "2024-06-13T13:24:23.667Z"
   },
   {
    "duration": 164,
    "start_time": "2024-06-13T13:24:23.867Z"
   },
   {
    "duration": 11,
    "start_time": "2024-06-13T13:24:38.033Z"
   },
   {
    "duration": 152,
    "start_time": "2024-06-13T13:24:38.186Z"
   },
   {
    "duration": 9,
    "start_time": "2024-06-13T13:25:06.685Z"
   },
   {
    "duration": 168,
    "start_time": "2024-06-13T13:25:06.874Z"
   },
   {
    "duration": 9,
    "start_time": "2024-06-13T13:25:29.287Z"
   },
   {
    "duration": 144,
    "start_time": "2024-06-13T13:25:29.577Z"
   },
   {
    "duration": 9,
    "start_time": "2024-06-13T13:25:41.589Z"
   },
   {
    "duration": 155,
    "start_time": "2024-06-13T13:25:42.780Z"
   },
   {
    "duration": 7,
    "start_time": "2024-06-13T13:28:03.011Z"
   },
   {
    "duration": 150,
    "start_time": "2024-06-13T13:28:03.208Z"
   },
   {
    "duration": 9,
    "start_time": "2024-06-13T13:28:12.299Z"
   },
   {
    "duration": 139,
    "start_time": "2024-06-13T13:28:12.455Z"
   },
   {
    "duration": 9,
    "start_time": "2024-06-13T13:28:54.448Z"
   },
   {
    "duration": 142,
    "start_time": "2024-06-13T13:28:54.642Z"
   },
   {
    "duration": 9,
    "start_time": "2024-06-13T13:29:01.096Z"
   },
   {
    "duration": 140,
    "start_time": "2024-06-13T13:29:01.755Z"
   },
   {
    "duration": 7,
    "start_time": "2024-06-13T13:29:06.916Z"
   },
   {
    "duration": 141,
    "start_time": "2024-06-13T13:29:08.413Z"
   },
   {
    "duration": 15,
    "start_time": "2024-06-13T13:29:16.363Z"
   },
   {
    "duration": 156,
    "start_time": "2024-06-13T13:29:16.544Z"
   },
   {
    "duration": 5040,
    "start_time": "2024-06-13T15:56:16.253Z"
   },
   {
    "duration": 843,
    "start_time": "2024-06-13T15:56:21.296Z"
   },
   {
    "duration": 149,
    "start_time": "2024-06-13T15:56:22.142Z"
   },
   {
    "duration": 45,
    "start_time": "2024-06-13T15:56:22.295Z"
   },
   {
    "duration": 7,
    "start_time": "2024-06-13T15:56:22.344Z"
   },
   {
    "duration": 331,
    "start_time": "2024-06-13T15:56:22.356Z"
   },
   {
    "duration": 121,
    "start_time": "2024-06-13T15:56:22.690Z"
   },
   {
    "duration": 98,
    "start_time": "2024-06-13T15:56:22.814Z"
   },
   {
    "duration": 6,
    "start_time": "2024-06-13T15:56:22.915Z"
   },
   {
    "duration": 430,
    "start_time": "2024-06-13T15:56:22.934Z"
   },
   {
    "duration": 26,
    "start_time": "2024-06-13T15:56:23.367Z"
   },
   {
    "duration": 9,
    "start_time": "2024-06-13T15:56:23.397Z"
   },
   {
    "duration": 36,
    "start_time": "2024-06-13T15:56:23.409Z"
   },
   {
    "duration": 30,
    "start_time": "2024-06-13T15:56:23.447Z"
   },
   {
    "duration": 446,
    "start_time": "2024-06-13T15:56:23.480Z"
   },
   {
    "duration": 4,
    "start_time": "2024-06-13T15:56:46.591Z"
   },
   {
    "duration": 40,
    "start_time": "2024-06-13T15:56:50.107Z"
   },
   {
    "duration": 9,
    "start_time": "2024-06-13T15:57:44.005Z"
   },
   {
    "duration": 5,
    "start_time": "2024-06-13T15:57:44.326Z"
   },
   {
    "duration": 28,
    "start_time": "2024-06-13T15:57:44.838Z"
   },
   {
    "duration": 43,
    "start_time": "2024-06-13T15:57:45.233Z"
   },
   {
    "duration": 1364,
    "start_time": "2024-06-13T15:58:03.092Z"
   },
   {
    "duration": 751,
    "start_time": "2024-06-13T15:58:04.460Z"
   },
   {
    "duration": 159,
    "start_time": "2024-06-13T15:58:05.214Z"
   },
   {
    "duration": 56,
    "start_time": "2024-06-13T15:58:05.377Z"
   },
   {
    "duration": 6,
    "start_time": "2024-06-13T15:58:05.438Z"
   },
   {
    "duration": 336,
    "start_time": "2024-06-13T15:58:05.448Z"
   },
   {
    "duration": 121,
    "start_time": "2024-06-13T15:58:05.787Z"
   },
   {
    "duration": 106,
    "start_time": "2024-06-13T15:58:05.911Z"
   },
   {
    "duration": 16,
    "start_time": "2024-06-13T15:58:06.020Z"
   },
   {
    "duration": 410,
    "start_time": "2024-06-13T15:58:06.039Z"
   },
   {
    "duration": 25,
    "start_time": "2024-06-13T15:58:06.451Z"
   },
   {
    "duration": 11,
    "start_time": "2024-06-13T15:58:06.481Z"
   },
   {
    "duration": 7,
    "start_time": "2024-06-13T15:58:06.496Z"
   },
   {
    "duration": 29,
    "start_time": "2024-06-13T15:58:06.537Z"
   },
   {
    "duration": 519,
    "start_time": "2024-06-13T15:58:06.570Z"
   },
   {
    "duration": 9,
    "start_time": "2024-06-13T15:59:31.631Z"
   },
   {
    "duration": 5,
    "start_time": "2024-06-13T15:59:31.905Z"
   },
   {
    "duration": 28,
    "start_time": "2024-06-13T15:59:32.141Z"
   },
   {
    "duration": 42,
    "start_time": "2024-06-13T15:59:32.427Z"
   },
   {
    "duration": 4,
    "start_time": "2024-06-13T15:59:40.679Z"
   },
   {
    "duration": 738,
    "start_time": "2024-06-13T15:59:41.568Z"
   },
   {
    "duration": 151,
    "start_time": "2024-06-13T15:59:42.309Z"
   },
   {
    "duration": 20,
    "start_time": "2024-06-13T15:59:42.464Z"
   },
   {
    "duration": 8,
    "start_time": "2024-06-13T15:59:42.488Z"
   },
   {
    "duration": 322,
    "start_time": "2024-06-13T15:59:42.589Z"
   },
   {
    "duration": 107,
    "start_time": "2024-06-13T15:59:42.956Z"
   },
   {
    "duration": 99,
    "start_time": "2024-06-13T15:59:43.155Z"
   },
   {
    "duration": 6,
    "start_time": "2024-06-13T15:59:43.318Z"
   },
   {
    "duration": 381,
    "start_time": "2024-06-13T15:59:43.537Z"
   },
   {
    "duration": 20,
    "start_time": "2024-06-13T15:59:43.932Z"
   },
   {
    "duration": 7,
    "start_time": "2024-06-13T15:59:44.566Z"
   },
   {
    "duration": 5,
    "start_time": "2024-06-13T15:59:44.800Z"
   },
   {
    "duration": 31,
    "start_time": "2024-06-13T15:59:45.404Z"
   },
   {
    "duration": 41,
    "start_time": "2024-06-13T15:59:45.949Z"
   },
   {
    "duration": 37,
    "start_time": "2024-06-13T16:01:14.475Z"
   },
   {
    "duration": 695,
    "start_time": "2024-06-13T16:01:14.935Z"
   },
   {
    "duration": 154,
    "start_time": "2024-06-13T16:01:15.634Z"
   },
   {
    "duration": 20,
    "start_time": "2024-06-13T16:01:15.791Z"
   },
   {
    "duration": 6,
    "start_time": "2024-06-13T16:01:15.887Z"
   },
   {
    "duration": 308,
    "start_time": "2024-06-13T16:01:16.013Z"
   },
   {
    "duration": 102,
    "start_time": "2024-06-13T16:01:16.419Z"
   },
   {
    "duration": 94,
    "start_time": "2024-06-13T16:01:16.630Z"
   },
   {
    "duration": 7,
    "start_time": "2024-06-13T16:01:16.881Z"
   },
   {
    "duration": 395,
    "start_time": "2024-06-13T16:01:17.093Z"
   },
   {
    "duration": 20,
    "start_time": "2024-06-13T16:01:17.492Z"
   },
   {
    "duration": 7,
    "start_time": "2024-06-13T16:01:18.399Z"
   },
   {
    "duration": 4,
    "start_time": "2024-06-13T16:01:19.083Z"
   },
   {
    "duration": 23,
    "start_time": "2024-06-13T16:01:19.299Z"
   },
   {
    "duration": 136,
    "start_time": "2024-06-13T16:01:19.936Z"
   },
   {
    "duration": 4,
    "start_time": "2024-06-13T16:01:46.524Z"
   },
   {
    "duration": 722,
    "start_time": "2024-06-13T16:01:46.828Z"
   },
   {
    "duration": 150,
    "start_time": "2024-06-13T16:01:47.555Z"
   },
   {
    "duration": 34,
    "start_time": "2024-06-13T16:01:47.708Z"
   },
   {
    "duration": 6,
    "start_time": "2024-06-13T16:01:47.745Z"
   },
   {
    "duration": 307,
    "start_time": "2024-06-13T16:01:47.870Z"
   },
   {
    "duration": 113,
    "start_time": "2024-06-13T16:01:48.206Z"
   },
   {
    "duration": 91,
    "start_time": "2024-06-13T16:01:48.387Z"
   },
   {
    "duration": 6,
    "start_time": "2024-06-13T16:01:48.552Z"
   },
   {
    "duration": 392,
    "start_time": "2024-06-13T16:01:48.727Z"
   },
   {
    "duration": 19,
    "start_time": "2024-06-13T16:01:49.132Z"
   },
   {
    "duration": 7,
    "start_time": "2024-06-13T16:01:49.595Z"
   },
   {
    "duration": 4,
    "start_time": "2024-06-13T16:01:49.778Z"
   },
   {
    "duration": 31,
    "start_time": "2024-06-13T16:01:50.353Z"
   },
   {
    "duration": 150,
    "start_time": "2024-06-13T16:01:50.934Z"
   },
   {
    "duration": 1363,
    "start_time": "2024-06-13T16:02:01.479Z"
   },
   {
    "duration": 723,
    "start_time": "2024-06-13T16:02:02.846Z"
   },
   {
    "duration": 167,
    "start_time": "2024-06-13T16:02:03.572Z"
   },
   {
    "duration": 26,
    "start_time": "2024-06-13T16:02:03.743Z"
   },
   {
    "duration": 5,
    "start_time": "2024-06-13T16:02:03.773Z"
   },
   {
    "duration": 376,
    "start_time": "2024-06-13T16:02:03.781Z"
   },
   {
    "duration": 114,
    "start_time": "2024-06-13T16:02:04.160Z"
   },
   {
    "duration": 105,
    "start_time": "2024-06-13T16:02:04.276Z"
   },
   {
    "duration": 6,
    "start_time": "2024-06-13T16:02:04.385Z"
   },
   {
    "duration": 404,
    "start_time": "2024-06-13T16:02:04.394Z"
   },
   {
    "duration": 22,
    "start_time": "2024-06-13T16:02:04.801Z"
   },
   {
    "duration": 8,
    "start_time": "2024-06-13T16:02:04.834Z"
   },
   {
    "duration": 5,
    "start_time": "2024-06-13T16:02:04.845Z"
   },
   {
    "duration": 22,
    "start_time": "2024-06-13T16:02:04.856Z"
   },
   {
    "duration": 529,
    "start_time": "2024-06-13T16:02:04.881Z"
   },
   {
    "duration": 26,
    "start_time": "2024-06-13T16:03:35.714Z"
   },
   {
    "duration": 742,
    "start_time": "2024-06-13T16:03:36.033Z"
   },
   {
    "duration": 155,
    "start_time": "2024-06-13T16:03:36.778Z"
   },
   {
    "duration": 23,
    "start_time": "2024-06-13T16:03:36.935Z"
   },
   {
    "duration": 5,
    "start_time": "2024-06-13T16:03:36.962Z"
   },
   {
    "duration": 335,
    "start_time": "2024-06-13T16:03:37.042Z"
   },
   {
    "duration": 111,
    "start_time": "2024-06-13T16:03:37.408Z"
   },
   {
    "duration": 97,
    "start_time": "2024-06-13T16:03:37.577Z"
   },
   {
    "duration": 6,
    "start_time": "2024-06-13T16:03:37.757Z"
   },
   {
    "duration": 396,
    "start_time": "2024-06-13T16:03:37.945Z"
   },
   {
    "duration": 25,
    "start_time": "2024-06-13T16:03:38.344Z"
   },
   {
    "duration": 7,
    "start_time": "2024-06-13T16:03:38.900Z"
   },
   {
    "duration": 5,
    "start_time": "2024-06-13T16:03:39.145Z"
   },
   {
    "duration": 31,
    "start_time": "2024-06-13T16:03:39.613Z"
   },
   {
    "duration": 143,
    "start_time": "2024-06-13T16:03:39.874Z"
   },
   {
    "duration": 7,
    "start_time": "2024-06-13T16:03:52.971Z"
   },
   {
    "duration": 4,
    "start_time": "2024-06-13T16:03:53.196Z"
   },
   {
    "duration": 32,
    "start_time": "2024-06-13T16:03:53.619Z"
   },
   {
    "duration": 46,
    "start_time": "2024-06-13T16:03:54.105Z"
   },
   {
    "duration": 1444,
    "start_time": "2024-06-13T16:04:32.218Z"
   },
   {
    "duration": 735,
    "start_time": "2024-06-13T16:04:33.666Z"
   },
   {
    "duration": 162,
    "start_time": "2024-06-13T16:04:34.405Z"
   },
   {
    "duration": 28,
    "start_time": "2024-06-13T16:04:34.569Z"
   },
   {
    "duration": 29,
    "start_time": "2024-06-13T16:04:34.603Z"
   },
   {
    "duration": 333,
    "start_time": "2024-06-13T16:04:34.635Z"
   },
   {
    "duration": 131,
    "start_time": "2024-06-13T16:04:34.971Z"
   },
   {
    "duration": 101,
    "start_time": "2024-06-13T16:04:35.104Z"
   },
   {
    "duration": 26,
    "start_time": "2024-06-13T16:04:35.209Z"
   },
   {
    "duration": 422,
    "start_time": "2024-06-13T16:04:35.238Z"
   },
   {
    "duration": 22,
    "start_time": "2024-06-13T16:04:35.663Z"
   },
   {
    "duration": 10,
    "start_time": "2024-06-13T16:04:35.689Z"
   },
   {
    "duration": 35,
    "start_time": "2024-06-13T16:04:35.703Z"
   },
   {
    "duration": 31,
    "start_time": "2024-06-13T16:04:35.744Z"
   },
   {
    "duration": 506,
    "start_time": "2024-06-13T16:04:35.781Z"
   },
   {
    "duration": 7,
    "start_time": "2024-06-13T16:04:45.236Z"
   },
   {
    "duration": 4,
    "start_time": "2024-06-13T16:04:45.705Z"
   },
   {
    "duration": 29,
    "start_time": "2024-06-13T16:04:46.061Z"
   },
   {
    "duration": 142,
    "start_time": "2024-06-13T16:04:46.534Z"
   },
   {
    "duration": 24,
    "start_time": "2024-06-13T16:06:46.779Z"
   },
   {
    "duration": 25,
    "start_time": "2024-06-13T16:07:06.321Z"
   },
   {
    "duration": 20,
    "start_time": "2024-06-13T16:07:33.069Z"
   },
   {
    "duration": 28,
    "start_time": "2024-06-13T16:07:38.047Z"
   },
   {
    "duration": 7,
    "start_time": "2024-06-13T16:07:44.234Z"
   },
   {
    "duration": 33,
    "start_time": "2024-06-13T16:08:56.848Z"
   },
   {
    "duration": 25,
    "start_time": "2024-06-13T16:09:12.802Z"
   },
   {
    "duration": 594,
    "start_time": "2024-06-13T16:13:27.763Z"
   },
   {
    "duration": 1468,
    "start_time": "2024-06-13T16:16:20.242Z"
   },
   {
    "duration": 800,
    "start_time": "2024-06-13T16:16:21.714Z"
   },
   {
    "duration": 177,
    "start_time": "2024-06-13T16:16:22.518Z"
   },
   {
    "duration": 46,
    "start_time": "2024-06-13T16:16:22.701Z"
   },
   {
    "duration": 7,
    "start_time": "2024-06-13T16:16:22.750Z"
   },
   {
    "duration": 354,
    "start_time": "2024-06-13T16:16:22.760Z"
   },
   {
    "duration": 138,
    "start_time": "2024-06-13T16:16:23.117Z"
   },
   {
    "duration": 120,
    "start_time": "2024-06-13T16:16:23.258Z"
   },
   {
    "duration": 8,
    "start_time": "2024-06-13T16:16:23.385Z"
   },
   {
    "duration": 453,
    "start_time": "2024-06-13T16:16:23.400Z"
   },
   {
    "duration": 22,
    "start_time": "2024-06-13T16:16:23.856Z"
   },
   {
    "duration": 11,
    "start_time": "2024-06-13T16:16:23.881Z"
   },
   {
    "duration": 36,
    "start_time": "2024-06-13T16:16:23.896Z"
   },
   {
    "duration": 29,
    "start_time": "2024-06-13T16:16:23.936Z"
   },
   {
    "duration": 156,
    "start_time": "2024-06-13T16:16:23.969Z"
   },
   {
    "duration": 34,
    "start_time": "2024-06-13T16:16:24.129Z"
   },
   {
    "duration": 635,
    "start_time": "2024-06-13T16:16:24.166Z"
   },
   {
    "duration": 19239,
    "start_time": "2024-06-13T16:16:24.804Z"
   },
   {
    "duration": 734,
    "start_time": "2024-06-13T16:17:53.925Z"
   },
   {
    "duration": 17517,
    "start_time": "2024-06-13T16:17:54.662Z"
   },
   {
    "duration": 4,
    "start_time": "2024-06-13T16:20:03.609Z"
   },
   {
    "duration": 1475,
    "start_time": "2024-06-13T16:22:37.526Z"
   },
   {
    "duration": 753,
    "start_time": "2024-06-13T16:22:39.005Z"
   },
   {
    "duration": 151,
    "start_time": "2024-06-13T16:22:39.761Z"
   },
   {
    "duration": 37,
    "start_time": "2024-06-13T16:22:39.915Z"
   },
   {
    "duration": 5,
    "start_time": "2024-06-13T16:22:39.957Z"
   },
   {
    "duration": 338,
    "start_time": "2024-06-13T16:22:39.965Z"
   },
   {
    "duration": 109,
    "start_time": "2024-06-13T16:22:40.307Z"
   },
   {
    "duration": 101,
    "start_time": "2024-06-13T16:22:40.419Z"
   },
   {
    "duration": 7,
    "start_time": "2024-06-13T16:22:40.534Z"
   },
   {
    "duration": 431,
    "start_time": "2024-06-13T16:22:40.544Z"
   },
   {
    "duration": 21,
    "start_time": "2024-06-13T16:22:40.979Z"
   },
   {
    "duration": 31,
    "start_time": "2024-06-13T16:22:41.003Z"
   },
   {
    "duration": 6,
    "start_time": "2024-06-13T16:22:41.039Z"
   },
   {
    "duration": 22,
    "start_time": "2024-06-13T16:22:41.050Z"
   },
   {
    "duration": 181,
    "start_time": "2024-06-13T16:22:41.075Z"
   },
   {
    "duration": 32,
    "start_time": "2024-06-13T16:22:41.259Z"
   },
   {
    "duration": 632,
    "start_time": "2024-06-13T16:22:41.294Z"
   },
   {
    "duration": 17128,
    "start_time": "2024-06-13T16:22:41.929Z"
   },
   {
    "duration": 5,
    "start_time": "2024-06-13T16:23:35.911Z"
   },
   {
    "duration": 4,
    "start_time": "2024-06-13T16:24:08.266Z"
   },
   {
    "duration": 784,
    "start_time": "2024-06-13T16:24:42.148Z"
   },
   {
    "duration": 4,
    "start_time": "2024-06-13T16:24:54.416Z"
   },
   {
    "duration": 710,
    "start_time": "2024-06-13T16:24:54.424Z"
   },
   {
    "duration": 153,
    "start_time": "2024-06-13T16:24:55.137Z"
   },
   {
    "duration": 38,
    "start_time": "2024-06-13T16:24:55.295Z"
   },
   {
    "duration": 5,
    "start_time": "2024-06-13T16:24:55.336Z"
   },
   {
    "duration": 331,
    "start_time": "2024-06-13T16:24:55.344Z"
   },
   {
    "duration": 117,
    "start_time": "2024-06-13T16:24:55.678Z"
   },
   {
    "duration": 102,
    "start_time": "2024-06-13T16:24:55.798Z"
   },
   {
    "duration": 7,
    "start_time": "2024-06-13T16:24:55.904Z"
   },
   {
    "duration": 391,
    "start_time": "2024-06-13T16:24:55.917Z"
   },
   {
    "duration": 24,
    "start_time": "2024-06-13T16:24:56.311Z"
   },
   {
    "duration": 8,
    "start_time": "2024-06-13T16:24:56.338Z"
   },
   {
    "duration": 5,
    "start_time": "2024-06-13T16:24:56.348Z"
   },
   {
    "duration": 27,
    "start_time": "2024-06-13T16:24:56.356Z"
   },
   {
    "duration": 194,
    "start_time": "2024-06-13T16:24:56.386Z"
   },
   {
    "duration": 30,
    "start_time": "2024-06-13T16:24:56.584Z"
   },
   {
    "duration": 16,
    "start_time": "2024-06-13T16:24:56.616Z"
   },
   {
    "duration": 799,
    "start_time": "2024-06-13T16:24:56.636Z"
   },
   {
    "duration": 17715,
    "start_time": "2024-06-13T16:24:57.438Z"
   },
   {
    "duration": 7,
    "start_time": "2024-06-13T16:25:44.140Z"
   },
   {
    "duration": 6,
    "start_time": "2024-06-13T16:25:51.360Z"
   },
   {
    "duration": 7,
    "start_time": "2024-06-13T16:26:01.471Z"
   },
   {
    "duration": 6,
    "start_time": "2024-06-13T16:26:06.904Z"
   },
   {
    "duration": 6,
    "start_time": "2024-06-13T16:26:11.165Z"
   },
   {
    "duration": 5,
    "start_time": "2024-06-13T16:27:07.927Z"
   },
   {
    "duration": 707,
    "start_time": "2024-06-13T16:27:07.936Z"
   },
   {
    "duration": 148,
    "start_time": "2024-06-13T16:27:08.646Z"
   },
   {
    "duration": 35,
    "start_time": "2024-06-13T16:27:08.798Z"
   },
   {
    "duration": 5,
    "start_time": "2024-06-13T16:27:08.836Z"
   },
   {
    "duration": 337,
    "start_time": "2024-06-13T16:27:08.845Z"
   },
   {
    "duration": 117,
    "start_time": "2024-06-13T16:27:09.186Z"
   },
   {
    "duration": 102,
    "start_time": "2024-06-13T16:27:09.306Z"
   },
   {
    "duration": 19,
    "start_time": "2024-06-13T16:27:09.415Z"
   },
   {
    "duration": 378,
    "start_time": "2024-06-13T16:27:09.437Z"
   },
   {
    "duration": 26,
    "start_time": "2024-06-13T16:27:09.818Z"
   },
   {
    "duration": 7,
    "start_time": "2024-06-13T16:27:09.847Z"
   },
   {
    "duration": 5,
    "start_time": "2024-06-13T16:27:09.857Z"
   },
   {
    "duration": 27,
    "start_time": "2024-06-13T16:27:09.864Z"
   },
   {
    "duration": 169,
    "start_time": "2024-06-13T16:27:09.894Z"
   },
   {
    "duration": 31,
    "start_time": "2024-06-13T16:27:10.066Z"
   },
   {
    "duration": 603,
    "start_time": "2024-06-13T16:27:10.100Z"
   },
   {
    "duration": 4,
    "start_time": "2024-06-13T16:27:10.707Z"
   },
   {
    "duration": 20,
    "start_time": "2024-06-13T16:27:10.715Z"
   },
   {
    "duration": 16403,
    "start_time": "2024-06-13T16:27:10.738Z"
   },
   {
    "duration": 44,
    "start_time": "2024-06-13T16:35:48.192Z"
   },
   {
    "duration": 308,
    "start_time": "2024-06-13T16:36:02.639Z"
   },
   {
    "duration": 23,
    "start_time": "2024-06-13T16:36:26.202Z"
   },
   {
    "duration": 1428,
    "start_time": "2024-06-13T16:36:35.785Z"
   },
   {
    "duration": 808,
    "start_time": "2024-06-13T16:36:37.217Z"
   },
   {
    "duration": 146,
    "start_time": "2024-06-13T16:36:38.032Z"
   },
   {
    "duration": 25,
    "start_time": "2024-06-13T16:36:38.181Z"
   },
   {
    "duration": 6,
    "start_time": "2024-06-13T16:36:38.235Z"
   },
   {
    "duration": 343,
    "start_time": "2024-06-13T16:36:38.243Z"
   },
   {
    "duration": 123,
    "start_time": "2024-06-13T16:36:38.589Z"
   },
   {
    "duration": 101,
    "start_time": "2024-06-13T16:36:38.716Z"
   },
   {
    "duration": 16,
    "start_time": "2024-06-13T16:36:38.820Z"
   },
   {
    "duration": 441,
    "start_time": "2024-06-13T16:36:38.839Z"
   },
   {
    "duration": 22,
    "start_time": "2024-06-13T16:36:39.283Z"
   },
   {
    "duration": 25,
    "start_time": "2024-06-13T16:36:39.309Z"
   },
   {
    "duration": 5,
    "start_time": "2024-06-13T16:36:39.338Z"
   },
   {
    "duration": 31,
    "start_time": "2024-06-13T16:36:39.350Z"
   },
   {
    "duration": 751,
    "start_time": "2024-06-13T16:36:39.384Z"
   },
   {
    "duration": 163,
    "start_time": "2024-06-13T16:36:40.138Z"
   },
   {
    "duration": 45,
    "start_time": "2024-06-13T16:36:40.305Z"
   },
   {
    "duration": 492,
    "start_time": "2024-06-13T16:36:40.353Z"
   },
   {
    "duration": 64,
    "start_time": "2024-06-13T16:36:53.217Z"
   },
   {
    "duration": 674,
    "start_time": "2024-06-13T16:37:59.734Z"
   },
   {
    "duration": 1337,
    "start_time": "2024-06-13T16:38:01.138Z"
   },
   {
    "duration": 83,
    "start_time": "2024-06-13T16:38:38.694Z"
   },
   {
    "duration": 18014,
    "start_time": "2024-06-13T16:38:40.125Z"
   },
   {
    "duration": 1417,
    "start_time": "2024-06-13T16:41:37.974Z"
   },
   {
    "duration": 721,
    "start_time": "2024-06-13T16:41:39.395Z"
   },
   {
    "duration": 168,
    "start_time": "2024-06-13T16:41:40.119Z"
   },
   {
    "duration": 42,
    "start_time": "2024-06-13T16:41:40.292Z"
   },
   {
    "duration": 8,
    "start_time": "2024-06-13T16:41:40.338Z"
   },
   {
    "duration": 339,
    "start_time": "2024-06-13T16:41:40.349Z"
   },
   {
    "duration": 127,
    "start_time": "2024-06-13T16:41:40.692Z"
   },
   {
    "duration": 103,
    "start_time": "2024-06-13T16:41:40.822Z"
   },
   {
    "duration": 7,
    "start_time": "2024-06-13T16:41:40.934Z"
   },
   {
    "duration": 441,
    "start_time": "2024-06-13T16:41:40.948Z"
   },
   {
    "duration": 24,
    "start_time": "2024-06-13T16:41:41.395Z"
   },
   {
    "duration": 11,
    "start_time": "2024-06-13T16:41:41.437Z"
   },
   {
    "duration": 5,
    "start_time": "2024-06-13T16:41:41.452Z"
   },
   {
    "duration": 29,
    "start_time": "2024-06-13T16:41:41.462Z"
   },
   {
    "duration": 677,
    "start_time": "2024-06-13T16:41:41.532Z"
   },
   {
    "duration": 1315,
    "start_time": "2024-06-13T16:41:42.212Z"
   },
   {
    "duration": 82,
    "start_time": "2024-06-13T16:41:43.533Z"
   },
   {
    "duration": 497,
    "start_time": "2024-06-13T16:41:43.617Z"
   },
   {
    "duration": 24,
    "start_time": "2024-06-13T16:42:32.369Z"
   },
   {
    "duration": 88,
    "start_time": "2024-06-13T16:42:44.002Z"
   },
   {
    "duration": 19263,
    "start_time": "2024-06-13T16:42:45.283Z"
   },
   {
    "duration": 1492,
    "start_time": "2024-06-13T16:43:20.229Z"
   },
   {
    "duration": 793,
    "start_time": "2024-06-13T16:43:21.725Z"
   },
   {
    "duration": 164,
    "start_time": "2024-06-13T16:43:22.521Z"
   },
   {
    "duration": 44,
    "start_time": "2024-06-13T16:43:22.689Z"
   },
   {
    "duration": 6,
    "start_time": "2024-06-13T16:43:22.737Z"
   },
   {
    "duration": 468,
    "start_time": "2024-06-13T16:43:22.747Z"
   },
   {
    "duration": 134,
    "start_time": "2024-06-13T16:43:23.219Z"
   },
   {
    "duration": 129,
    "start_time": "2024-06-13T16:43:23.356Z"
   },
   {
    "duration": 8,
    "start_time": "2024-06-13T16:43:23.489Z"
   },
   {
    "duration": 439,
    "start_time": "2024-06-13T16:43:23.505Z"
   },
   {
    "duration": 22,
    "start_time": "2024-06-13T16:43:23.947Z"
   },
   {
    "duration": 8,
    "start_time": "2024-06-13T16:43:23.973Z"
   },
   {
    "duration": 6,
    "start_time": "2024-06-13T16:43:23.985Z"
   },
   {
    "duration": 70,
    "start_time": "2024-06-13T16:43:23.994Z"
   },
   {
    "duration": 769,
    "start_time": "2024-06-13T16:43:24.069Z"
   },
   {
    "duration": 1365,
    "start_time": "2024-06-13T16:43:24.842Z"
   },
   {
    "duration": 98,
    "start_time": "2024-06-13T16:43:26.211Z"
   },
   {
    "duration": 18054,
    "start_time": "2024-06-13T16:43:26.311Z"
   },
   {
    "duration": 97,
    "start_time": "2024-06-13T16:47:17.397Z"
   },
   {
    "duration": 756,
    "start_time": "2024-06-13T16:47:17.498Z"
   },
   {
    "duration": 146,
    "start_time": "2024-06-13T16:47:18.257Z"
   },
   {
    "duration": 41,
    "start_time": "2024-06-13T16:47:18.408Z"
   },
   {
    "duration": 7,
    "start_time": "2024-06-13T16:47:18.454Z"
   },
   {
    "duration": 346,
    "start_time": "2024-06-13T16:47:18.464Z"
   },
   {
    "duration": 119,
    "start_time": "2024-06-13T16:47:18.814Z"
   },
   {
    "duration": 112,
    "start_time": "2024-06-13T16:47:18.935Z"
   },
   {
    "duration": 8,
    "start_time": "2024-06-13T16:47:19.050Z"
   },
   {
    "duration": 404,
    "start_time": "2024-06-13T16:47:19.071Z"
   },
   {
    "duration": 27,
    "start_time": "2024-06-13T16:47:19.479Z"
   },
   {
    "duration": 25,
    "start_time": "2024-06-13T16:47:19.509Z"
   },
   {
    "duration": 5,
    "start_time": "2024-06-13T16:47:19.538Z"
   },
   {
    "duration": 31,
    "start_time": "2024-06-13T16:47:19.547Z"
   },
   {
    "duration": 687,
    "start_time": "2024-06-13T16:47:19.582Z"
   },
   {
    "duration": 1376,
    "start_time": "2024-06-13T16:47:20.272Z"
   },
   {
    "duration": 96,
    "start_time": "2024-06-13T16:47:21.656Z"
   },
   {
    "duration": 19113,
    "start_time": "2024-06-13T16:47:21.754Z"
   },
   {
    "duration": 1850,
    "start_time": "2024-06-13T16:48:16.198Z"
   },
   {
    "duration": 993,
    "start_time": "2024-06-13T16:48:18.056Z"
   },
   {
    "duration": 226,
    "start_time": "2024-06-13T16:48:19.056Z"
   },
   {
    "duration": 28,
    "start_time": "2024-06-13T16:48:19.287Z"
   },
   {
    "duration": 74,
    "start_time": "2024-06-13T16:48:19.334Z"
   },
   {
    "duration": 371,
    "start_time": "2024-06-13T16:48:19.415Z"
   },
   {
    "duration": 116,
    "start_time": "2024-06-13T16:48:19.794Z"
   },
   {
    "duration": 112,
    "start_time": "2024-06-13T16:48:19.913Z"
   },
   {
    "duration": 10,
    "start_time": "2024-06-13T16:48:20.033Z"
   },
   {
    "duration": 484,
    "start_time": "2024-06-13T16:48:20.050Z"
   },
   {
    "duration": 22,
    "start_time": "2024-06-13T16:48:20.538Z"
   },
   {
    "duration": 10,
    "start_time": "2024-06-13T16:48:20.564Z"
   },
   {
    "duration": 7,
    "start_time": "2024-06-13T16:48:20.577Z"
   },
   {
    "duration": 62,
    "start_time": "2024-06-13T16:48:20.588Z"
   },
   {
    "duration": 702,
    "start_time": "2024-06-13T16:48:20.653Z"
   },
   {
    "duration": 1821,
    "start_time": "2024-06-13T16:48:21.358Z"
   },
   {
    "duration": 107,
    "start_time": "2024-06-13T16:48:23.184Z"
   },
   {
    "duration": 16456,
    "start_time": "2024-06-13T16:48:23.295Z"
   },
   {
    "duration": 1782,
    "start_time": "2024-06-13T16:49:29.748Z"
   },
   {
    "duration": 959,
    "start_time": "2024-06-13T16:49:31.534Z"
   },
   {
    "duration": 206,
    "start_time": "2024-06-13T16:49:32.497Z"
   },
   {
    "duration": 43,
    "start_time": "2024-06-13T16:49:32.708Z"
   },
   {
    "duration": 11,
    "start_time": "2024-06-13T16:49:32.754Z"
   },
   {
    "duration": 356,
    "start_time": "2024-06-13T16:49:32.768Z"
   },
   {
    "duration": 131,
    "start_time": "2024-06-13T16:49:33.128Z"
   },
   {
    "duration": 103,
    "start_time": "2024-06-13T16:49:33.262Z"
   },
   {
    "duration": 6,
    "start_time": "2024-06-13T16:49:33.368Z"
   },
   {
    "duration": 460,
    "start_time": "2024-06-13T16:49:33.380Z"
   },
   {
    "duration": 25,
    "start_time": "2024-06-13T16:49:33.843Z"
   },
   {
    "duration": 7,
    "start_time": "2024-06-13T16:49:33.872Z"
   },
   {
    "duration": 6,
    "start_time": "2024-06-13T16:49:33.882Z"
   },
   {
    "duration": 59,
    "start_time": "2024-06-13T16:49:33.892Z"
   },
   {
    "duration": 731,
    "start_time": "2024-06-13T16:49:33.953Z"
   },
   {
    "duration": 555,
    "start_time": "2024-06-13T16:49:34.687Z"
   },
   {
    "duration": 0,
    "start_time": "2024-06-13T16:49:35.245Z"
   },
   {
    "duration": 0,
    "start_time": "2024-06-13T16:49:35.247Z"
   },
   {
    "duration": 13,
    "start_time": "2024-06-13T16:49:59.216Z"
   },
   {
    "duration": 5,
    "start_time": "2024-06-13T16:50:00.587Z"
   },
   {
    "duration": 37,
    "start_time": "2024-06-13T16:50:00.933Z"
   },
   {
    "duration": 690,
    "start_time": "2024-06-13T16:50:03.706Z"
   },
   {
    "duration": 55,
    "start_time": "2024-06-13T16:50:04.548Z"
   },
   {
    "duration": 30,
    "start_time": "2024-06-13T16:50:04.949Z"
   },
   {
    "duration": 1503,
    "start_time": "2024-06-13T16:50:17.086Z"
   },
   {
    "duration": 781,
    "start_time": "2024-06-13T16:50:18.594Z"
   },
   {
    "duration": 156,
    "start_time": "2024-06-13T16:50:19.380Z"
   },
   {
    "duration": 27,
    "start_time": "2024-06-13T16:50:19.539Z"
   },
   {
    "duration": 6,
    "start_time": "2024-06-13T16:50:19.572Z"
   },
   {
    "duration": 354,
    "start_time": "2024-06-13T16:50:19.582Z"
   },
   {
    "duration": 123,
    "start_time": "2024-06-13T16:50:19.940Z"
   },
   {
    "duration": 107,
    "start_time": "2024-06-13T16:50:20.066Z"
   },
   {
    "duration": 9,
    "start_time": "2024-06-13T16:50:20.176Z"
   },
   {
    "duration": 553,
    "start_time": "2024-06-13T16:50:20.188Z"
   },
   {
    "duration": 21,
    "start_time": "2024-06-13T16:50:20.745Z"
   },
   {
    "duration": 9,
    "start_time": "2024-06-13T16:50:20.770Z"
   },
   {
    "duration": 5,
    "start_time": "2024-06-13T16:50:20.782Z"
   },
   {
    "duration": 58,
    "start_time": "2024-06-13T16:50:20.793Z"
   },
   {
    "duration": 739,
    "start_time": "2024-06-13T16:50:20.854Z"
   },
   {
    "duration": 1404,
    "start_time": "2024-06-13T16:50:21.597Z"
   },
   {
    "duration": 97,
    "start_time": "2024-06-13T16:50:23.005Z"
   },
   {
    "duration": 478,
    "start_time": "2024-06-13T16:50:28.793Z"
   },
   {
    "duration": 30,
    "start_time": "2024-06-13T16:50:41.691Z"
   },
   {
    "duration": 9,
    "start_time": "2024-06-13T16:50:51.331Z"
   },
   {
    "duration": 32,
    "start_time": "2024-06-13T16:50:57.129Z"
   },
   {
    "duration": 25,
    "start_time": "2024-06-13T16:51:04.336Z"
   },
   {
    "duration": 50,
    "start_time": "2024-06-13T16:51:37.515Z"
   },
   {
    "duration": 36,
    "start_time": "2024-06-13T16:51:40.922Z"
   },
   {
    "duration": 16729,
    "start_time": "2024-06-13T16:51:47.823Z"
   },
   {
    "duration": 1659,
    "start_time": "2024-06-13T16:52:24.283Z"
   },
   {
    "duration": 831,
    "start_time": "2024-06-13T16:52:25.947Z"
   },
   {
    "duration": 192,
    "start_time": "2024-06-13T16:52:26.782Z"
   },
   {
    "duration": 28,
    "start_time": "2024-06-13T16:52:26.977Z"
   },
   {
    "duration": 86,
    "start_time": "2024-06-13T16:52:27.010Z"
   },
   {
    "duration": 355,
    "start_time": "2024-06-13T16:52:27.100Z"
   },
   {
    "duration": 130,
    "start_time": "2024-06-13T16:52:27.458Z"
   },
   {
    "duration": 101,
    "start_time": "2024-06-13T16:52:27.592Z"
   },
   {
    "duration": 7,
    "start_time": "2024-06-13T16:52:27.696Z"
   },
   {
    "duration": 539,
    "start_time": "2024-06-13T16:52:27.706Z"
   },
   {
    "duration": 20,
    "start_time": "2024-06-13T16:52:28.249Z"
   },
   {
    "duration": 10,
    "start_time": "2024-06-13T16:52:28.273Z"
   },
   {
    "duration": 7,
    "start_time": "2024-06-13T16:52:28.287Z"
   },
   {
    "duration": 31,
    "start_time": "2024-06-13T16:52:28.334Z"
   },
   {
    "duration": 768,
    "start_time": "2024-06-13T16:52:28.369Z"
   },
   {
    "duration": 457,
    "start_time": "2024-06-13T16:52:29.140Z"
   },
   {
    "duration": 0,
    "start_time": "2024-06-13T16:52:29.600Z"
   },
   {
    "duration": 0,
    "start_time": "2024-06-13T16:52:29.602Z"
   },
   {
    "duration": 7,
    "start_time": "2024-06-13T16:53:03.655Z"
   },
   {
    "duration": 4,
    "start_time": "2024-06-13T16:53:04.264Z"
   },
   {
    "duration": 34,
    "start_time": "2024-06-13T16:53:04.688Z"
   },
   {
    "duration": 656,
    "start_time": "2024-06-13T16:53:05.072Z"
   },
   {
    "duration": 45,
    "start_time": "2024-06-13T16:53:05.734Z"
   },
   {
    "duration": 30,
    "start_time": "2024-06-13T16:53:07.565Z"
   },
   {
    "duration": 14,
    "start_time": "2024-06-13T16:53:14.281Z"
   },
   {
    "duration": 0,
    "start_time": "2024-06-13T16:53:14.299Z"
   },
   {
    "duration": 0,
    "start_time": "2024-06-13T16:53:14.301Z"
   },
   {
    "duration": 0,
    "start_time": "2024-06-13T16:53:14.303Z"
   },
   {
    "duration": 0,
    "start_time": "2024-06-13T16:53:14.306Z"
   },
   {
    "duration": 0,
    "start_time": "2024-06-13T16:53:14.308Z"
   },
   {
    "duration": 0,
    "start_time": "2024-06-13T16:53:14.311Z"
   },
   {
    "duration": 0,
    "start_time": "2024-06-13T16:53:14.313Z"
   },
   {
    "duration": 0,
    "start_time": "2024-06-13T16:53:14.317Z"
   },
   {
    "duration": 324,
    "start_time": "2024-06-13T16:53:14.322Z"
   },
   {
    "duration": 0,
    "start_time": "2024-06-13T16:53:14.649Z"
   },
   {
    "duration": 0,
    "start_time": "2024-06-13T16:53:14.651Z"
   },
   {
    "duration": 0,
    "start_time": "2024-06-13T16:53:14.652Z"
   },
   {
    "duration": 0,
    "start_time": "2024-06-13T16:53:14.654Z"
   },
   {
    "duration": 0,
    "start_time": "2024-06-13T16:53:14.657Z"
   },
   {
    "duration": 0,
    "start_time": "2024-06-13T16:53:14.659Z"
   },
   {
    "duration": 0,
    "start_time": "2024-06-13T16:53:14.661Z"
   },
   {
    "duration": 0,
    "start_time": "2024-06-13T16:53:14.663Z"
   },
   {
    "duration": 1583,
    "start_time": "2024-06-13T16:53:41.123Z"
   },
   {
    "duration": 751,
    "start_time": "2024-06-13T16:53:42.709Z"
   },
   {
    "duration": 180,
    "start_time": "2024-06-13T16:53:43.464Z"
   },
   {
    "duration": 34,
    "start_time": "2024-06-13T16:53:43.650Z"
   },
   {
    "duration": 7,
    "start_time": "2024-06-13T16:53:43.687Z"
   },
   {
    "duration": 389,
    "start_time": "2024-06-13T16:53:43.698Z"
   },
   {
    "duration": 140,
    "start_time": "2024-06-13T16:53:44.095Z"
   },
   {
    "duration": 101,
    "start_time": "2024-06-13T16:53:44.239Z"
   },
   {
    "duration": 7,
    "start_time": "2024-06-13T16:53:44.342Z"
   },
   {
    "duration": 441,
    "start_time": "2024-06-13T16:53:44.352Z"
   },
   {
    "duration": 37,
    "start_time": "2024-06-13T16:53:44.797Z"
   },
   {
    "duration": 7,
    "start_time": "2024-06-13T16:53:45.181Z"
   },
   {
    "duration": 5,
    "start_time": "2024-06-13T16:53:45.378Z"
   },
   {
    "duration": 27,
    "start_time": "2024-06-13T16:53:45.688Z"
   },
   {
    "duration": 668,
    "start_time": "2024-06-13T16:53:46.174Z"
   },
   {
    "duration": 1378,
    "start_time": "2024-06-13T16:53:46.845Z"
   },
   {
    "duration": 87,
    "start_time": "2024-06-13T16:53:48.232Z"
   },
   {
    "duration": 16399,
    "start_time": "2024-06-13T16:53:50.436Z"
   },
   {
    "duration": 1432,
    "start_time": "2024-06-13T16:56:25.507Z"
   },
   {
    "duration": 736,
    "start_time": "2024-06-13T16:56:26.944Z"
   },
   {
    "duration": 163,
    "start_time": "2024-06-13T16:56:27.683Z"
   },
   {
    "duration": 25,
    "start_time": "2024-06-13T16:56:27.849Z"
   },
   {
    "duration": 5,
    "start_time": "2024-06-13T16:56:27.879Z"
   },
   {
    "duration": 360,
    "start_time": "2024-06-13T16:56:27.888Z"
   },
   {
    "duration": 124,
    "start_time": "2024-06-13T16:56:28.251Z"
   },
   {
    "duration": 100,
    "start_time": "2024-06-13T16:56:28.377Z"
   },
   {
    "duration": 8,
    "start_time": "2024-06-13T16:56:28.479Z"
   },
   {
    "duration": 431,
    "start_time": "2024-06-13T16:56:28.490Z"
   },
   {
    "duration": 26,
    "start_time": "2024-06-13T16:56:28.924Z"
   },
   {
    "duration": 8,
    "start_time": "2024-06-13T16:56:28.954Z"
   },
   {
    "duration": 5,
    "start_time": "2024-06-13T16:56:28.967Z"
   },
   {
    "duration": 69,
    "start_time": "2024-06-13T16:56:28.978Z"
   },
   {
    "duration": 685,
    "start_time": "2024-06-13T16:56:29.051Z"
   },
   {
    "duration": 1300,
    "start_time": "2024-06-13T16:56:29.739Z"
   },
   {
    "duration": 96,
    "start_time": "2024-06-13T16:56:31.042Z"
   },
   {
    "duration": 16392,
    "start_time": "2024-06-13T16:56:31.141Z"
   },
   {
    "duration": 5082,
    "start_time": "2024-06-13T20:17:06.510Z"
   },
   {
    "duration": 769,
    "start_time": "2024-06-13T20:17:11.595Z"
   },
   {
    "duration": 152,
    "start_time": "2024-06-13T20:17:12.366Z"
   },
   {
    "duration": 25,
    "start_time": "2024-06-13T20:17:12.521Z"
   },
   {
    "duration": 5,
    "start_time": "2024-06-13T20:17:12.550Z"
   },
   {
    "duration": 361,
    "start_time": "2024-06-13T20:17:12.557Z"
   },
   {
    "duration": 123,
    "start_time": "2024-06-13T20:17:12.920Z"
   },
   {
    "duration": 99,
    "start_time": "2024-06-13T20:17:13.046Z"
   },
   {
    "duration": 6,
    "start_time": "2024-06-13T20:17:13.148Z"
   },
   {
    "duration": 415,
    "start_time": "2024-06-13T20:17:13.157Z"
   },
   {
    "duration": 20,
    "start_time": "2024-06-13T20:17:13.575Z"
   },
   {
    "duration": 8,
    "start_time": "2024-06-13T20:17:13.610Z"
   },
   {
    "duration": 6,
    "start_time": "2024-06-13T20:17:13.620Z"
   },
   {
    "duration": 27,
    "start_time": "2024-06-13T20:17:13.631Z"
   },
   {
    "duration": 715,
    "start_time": "2024-06-13T20:17:13.662Z"
   },
   {
    "duration": 1355,
    "start_time": "2024-06-13T20:17:14.380Z"
   },
   {
    "duration": 96,
    "start_time": "2024-06-13T20:17:15.738Z"
   },
   {
    "duration": 16485,
    "start_time": "2024-06-13T20:17:15.837Z"
   },
   {
    "duration": 819,
    "start_time": "2024-06-13T20:23:39.711Z"
   },
   {
    "duration": 23036,
    "start_time": "2024-06-13T20:23:58.436Z"
   },
   {
    "duration": 29704,
    "start_time": "2024-06-13T20:24:43.945Z"
   },
   {
    "duration": 82734,
    "start_time": "2024-06-13T20:25:36.267Z"
   },
   {
    "duration": 19015,
    "start_time": "2024-06-13T20:29:06.854Z"
   },
   {
    "duration": 0,
    "start_time": "2024-06-13T20:30:10.272Z"
   },
   {
    "duration": 165,
    "start_time": "2024-06-13T20:30:32.657Z"
   },
   {
    "duration": 1428,
    "start_time": "2024-06-13T20:31:17.582Z"
   },
   {
    "duration": 750,
    "start_time": "2024-06-13T20:31:19.014Z"
   },
   {
    "duration": 167,
    "start_time": "2024-06-13T20:31:19.767Z"
   },
   {
    "duration": 25,
    "start_time": "2024-06-13T20:31:19.936Z"
   },
   {
    "duration": 5,
    "start_time": "2024-06-13T20:31:19.967Z"
   },
   {
    "duration": 390,
    "start_time": "2024-06-13T20:31:19.976Z"
   },
   {
    "duration": 122,
    "start_time": "2024-06-13T20:31:20.369Z"
   },
   {
    "duration": 115,
    "start_time": "2024-06-13T20:31:20.493Z"
   },
   {
    "duration": 6,
    "start_time": "2024-06-13T20:31:20.612Z"
   },
   {
    "duration": 426,
    "start_time": "2024-06-13T20:31:20.621Z"
   },
   {
    "duration": 21,
    "start_time": "2024-06-13T20:31:21.050Z"
   },
   {
    "duration": 8,
    "start_time": "2024-06-13T20:31:21.075Z"
   },
   {
    "duration": 5,
    "start_time": "2024-06-13T20:31:21.109Z"
   },
   {
    "duration": 28,
    "start_time": "2024-06-13T20:31:21.121Z"
   },
   {
    "duration": 697,
    "start_time": "2024-06-13T20:31:21.152Z"
   },
   {
    "duration": 1306,
    "start_time": "2024-06-13T20:31:21.852Z"
   },
   {
    "duration": 101,
    "start_time": "2024-06-13T20:31:23.161Z"
   },
   {
    "duration": 16361,
    "start_time": "2024-06-13T20:31:23.264Z"
   },
   {
    "duration": 79,
    "start_time": "2024-06-13T20:31:39.630Z"
   },
   {
    "duration": 15183,
    "start_time": "2024-06-13T20:31:49.331Z"
   },
   {
    "duration": 89788,
    "start_time": "2024-06-13T20:32:41.664Z"
   },
   {
    "duration": 16357,
    "start_time": "2024-06-13T20:35:58.552Z"
   },
   {
    "duration": 16395,
    "start_time": "2024-06-13T20:36:41.052Z"
   },
   {
    "duration": 8436,
    "start_time": "2024-06-13T20:37:34.690Z"
   },
   {
    "duration": 3425,
    "start_time": "2024-06-13T20:37:47.401Z"
   },
   {
    "duration": 89751,
    "start_time": "2024-06-13T20:37:56.136Z"
   },
   {
    "duration": 20,
    "start_time": "2024-06-13T20:47:58.739Z"
   },
   {
    "duration": 45037,
    "start_time": "2024-06-13T20:48:09.065Z"
   },
   {
    "duration": 32961,
    "start_time": "2024-06-13T20:49:01.408Z"
   },
   {
    "duration": 1461,
    "start_time": "2024-06-13T20:49:47.909Z"
   },
   {
    "duration": 769,
    "start_time": "2024-06-13T20:49:49.373Z"
   },
   {
    "duration": 154,
    "start_time": "2024-06-13T20:49:50.145Z"
   },
   {
    "duration": 24,
    "start_time": "2024-06-13T20:49:50.309Z"
   },
   {
    "duration": 6,
    "start_time": "2024-06-13T20:49:50.338Z"
   },
   {
    "duration": 339,
    "start_time": "2024-06-13T20:49:50.347Z"
   },
   {
    "duration": 107,
    "start_time": "2024-06-13T20:49:50.689Z"
   },
   {
    "duration": 113,
    "start_time": "2024-06-13T20:49:50.799Z"
   },
   {
    "duration": 7,
    "start_time": "2024-06-13T20:49:50.914Z"
   },
   {
    "duration": 407,
    "start_time": "2024-06-13T20:49:50.924Z"
   },
   {
    "duration": 20,
    "start_time": "2024-06-13T20:49:51.334Z"
   },
   {
    "duration": 10,
    "start_time": "2024-06-13T20:49:51.357Z"
   },
   {
    "duration": 6,
    "start_time": "2024-06-13T20:49:51.370Z"
   },
   {
    "duration": 28,
    "start_time": "2024-06-13T20:49:51.413Z"
   },
   {
    "duration": 671,
    "start_time": "2024-06-13T20:49:51.444Z"
   },
   {
    "duration": 1315,
    "start_time": "2024-06-13T20:49:52.118Z"
   },
   {
    "duration": 100,
    "start_time": "2024-06-13T20:49:53.436Z"
   },
   {
    "duration": 16332,
    "start_time": "2024-06-13T20:49:53.538Z"
   },
   {
    "duration": 89838,
    "start_time": "2024-06-13T20:50:09.911Z"
   },
   {
    "duration": 172,
    "start_time": "2024-06-13T20:53:28.693Z"
   },
   {
    "duration": 1454,
    "start_time": "2024-06-13T20:53:36.031Z"
   },
   {
    "duration": 775,
    "start_time": "2024-06-13T20:53:37.489Z"
   },
   {
    "duration": 159,
    "start_time": "2024-06-13T20:53:38.267Z"
   },
   {
    "duration": 24,
    "start_time": "2024-06-13T20:53:38.430Z"
   },
   {
    "duration": 5,
    "start_time": "2024-06-13T20:53:38.459Z"
   },
   {
    "duration": 342,
    "start_time": "2024-06-13T20:53:38.467Z"
   },
   {
    "duration": 120,
    "start_time": "2024-06-13T20:53:38.812Z"
   },
   {
    "duration": 104,
    "start_time": "2024-06-13T20:53:38.935Z"
   },
   {
    "duration": 7,
    "start_time": "2024-06-13T20:53:39.042Z"
   },
   {
    "duration": 410,
    "start_time": "2024-06-13T20:53:39.052Z"
   },
   {
    "duration": 20,
    "start_time": "2024-06-13T20:53:39.465Z"
   },
   {
    "duration": 24,
    "start_time": "2024-06-13T20:53:39.488Z"
   },
   {
    "duration": 5,
    "start_time": "2024-06-13T20:53:39.515Z"
   },
   {
    "duration": 23,
    "start_time": "2024-06-13T20:53:39.526Z"
   },
   {
    "duration": 712,
    "start_time": "2024-06-13T20:53:39.552Z"
   },
   {
    "duration": 1297,
    "start_time": "2024-06-13T20:53:40.266Z"
   },
   {
    "duration": 96,
    "start_time": "2024-06-13T20:53:41.566Z"
   },
   {
    "duration": 16356,
    "start_time": "2024-06-13T20:53:41.665Z"
   },
   {
    "duration": 9543,
    "start_time": "2024-06-13T20:54:31.120Z"
   },
   {
    "duration": 1452,
    "start_time": "2024-06-13T20:55:05.326Z"
   },
   {
    "duration": 781,
    "start_time": "2024-06-13T20:55:06.781Z"
   },
   {
    "duration": 153,
    "start_time": "2024-06-13T20:55:07.566Z"
   },
   {
    "duration": 24,
    "start_time": "2024-06-13T20:55:07.722Z"
   },
   {
    "duration": 5,
    "start_time": "2024-06-13T20:55:07.751Z"
   },
   {
    "duration": 352,
    "start_time": "2024-06-13T20:55:07.758Z"
   },
   {
    "duration": 116,
    "start_time": "2024-06-13T20:55:08.113Z"
   },
   {
    "duration": 104,
    "start_time": "2024-06-13T20:55:08.232Z"
   },
   {
    "duration": 7,
    "start_time": "2024-06-13T20:55:08.340Z"
   },
   {
    "duration": 414,
    "start_time": "2024-06-13T20:55:08.350Z"
   },
   {
    "duration": 20,
    "start_time": "2024-06-13T20:55:08.767Z"
   },
   {
    "duration": 24,
    "start_time": "2024-06-13T20:55:08.791Z"
   },
   {
    "duration": 5,
    "start_time": "2024-06-13T20:55:08.818Z"
   },
   {
    "duration": 31,
    "start_time": "2024-06-13T20:55:08.828Z"
   },
   {
    "duration": 703,
    "start_time": "2024-06-13T20:55:08.861Z"
   },
   {
    "duration": 1300,
    "start_time": "2024-06-13T20:55:09.566Z"
   },
   {
    "duration": 102,
    "start_time": "2024-06-13T20:55:10.869Z"
   },
   {
    "duration": 16246,
    "start_time": "2024-06-13T20:55:10.974Z"
   },
   {
    "duration": 46730,
    "start_time": "2024-06-13T20:55:27.224Z"
   },
   {
    "duration": 1400,
    "start_time": "2024-06-13T20:57:57.409Z"
   },
   {
    "duration": 714,
    "start_time": "2024-06-13T20:57:58.812Z"
   },
   {
    "duration": 161,
    "start_time": "2024-06-13T20:57:59.529Z"
   },
   {
    "duration": 32,
    "start_time": "2024-06-13T20:57:59.695Z"
   },
   {
    "duration": 6,
    "start_time": "2024-06-13T20:57:59.730Z"
   },
   {
    "duration": 341,
    "start_time": "2024-06-13T20:57:59.739Z"
   },
   {
    "duration": 127,
    "start_time": "2024-06-13T20:58:00.083Z"
   },
   {
    "duration": 100,
    "start_time": "2024-06-13T20:58:00.213Z"
   },
   {
    "duration": 7,
    "start_time": "2024-06-13T20:58:00.315Z"
   },
   {
    "duration": 424,
    "start_time": "2024-06-13T20:58:00.329Z"
   },
   {
    "duration": 21,
    "start_time": "2024-06-13T20:58:00.755Z"
   },
   {
    "duration": 7,
    "start_time": "2024-06-13T20:58:00.780Z"
   },
   {
    "duration": 4,
    "start_time": "2024-06-13T20:58:00.810Z"
   },
   {
    "duration": 29,
    "start_time": "2024-06-13T20:58:00.817Z"
   },
   {
    "duration": 707,
    "start_time": "2024-06-13T20:58:00.850Z"
   },
   {
    "duration": 1299,
    "start_time": "2024-06-13T20:58:01.560Z"
   },
   {
    "duration": 97,
    "start_time": "2024-06-13T20:58:02.862Z"
   },
   {
    "duration": 16307,
    "start_time": "2024-06-13T20:58:02.962Z"
   },
   {
    "duration": 46565,
    "start_time": "2024-06-13T20:58:19.310Z"
   },
   {
    "duration": 286585,
    "start_time": "2024-06-13T20:59:05.878Z"
   },
   {
    "duration": 1412,
    "start_time": "2024-06-13T21:04:03.775Z"
   },
   {
    "duration": 724,
    "start_time": "2024-06-13T21:04:05.190Z"
   },
   {
    "duration": 159,
    "start_time": "2024-06-13T21:04:05.918Z"
   },
   {
    "duration": 34,
    "start_time": "2024-06-13T21:04:06.080Z"
   },
   {
    "duration": 5,
    "start_time": "2024-06-13T21:04:06.120Z"
   },
   {
    "duration": 334,
    "start_time": "2024-06-13T21:04:06.128Z"
   },
   {
    "duration": 122,
    "start_time": "2024-06-13T21:04:06.465Z"
   },
   {
    "duration": 107,
    "start_time": "2024-06-13T21:04:06.590Z"
   },
   {
    "duration": 7,
    "start_time": "2024-06-13T21:04:06.708Z"
   },
   {
    "duration": 418,
    "start_time": "2024-06-13T21:04:06.718Z"
   },
   {
    "duration": 21,
    "start_time": "2024-06-13T21:04:07.139Z"
   },
   {
    "duration": 8,
    "start_time": "2024-06-13T21:04:07.163Z"
   },
   {
    "duration": 6,
    "start_time": "2024-06-13T21:04:07.173Z"
   },
   {
    "duration": 28,
    "start_time": "2024-06-13T21:04:07.213Z"
   },
   {
    "duration": 698,
    "start_time": "2024-06-13T21:04:07.244Z"
   },
   {
    "duration": 1303,
    "start_time": "2024-06-13T21:04:07.947Z"
   },
   {
    "duration": 93,
    "start_time": "2024-06-13T21:04:09.253Z"
   },
   {
    "duration": 16862,
    "start_time": "2024-06-13T21:04:09.348Z"
   },
   {
    "duration": 46669,
    "start_time": "2024-06-13T21:04:26.214Z"
   },
   {
    "duration": 14288,
    "start_time": "2024-06-13T21:08:49.734Z"
   },
   {
    "duration": 42425,
    "start_time": "2024-06-13T21:09:04.817Z"
   },
   {
    "duration": 169,
    "start_time": "2024-06-13T21:10:02.833Z"
   },
   {
    "duration": 1439,
    "start_time": "2024-06-13T21:10:12.911Z"
   },
   {
    "duration": 797,
    "start_time": "2024-06-13T21:10:14.353Z"
   },
   {
    "duration": 161,
    "start_time": "2024-06-13T21:10:15.152Z"
   },
   {
    "duration": 26,
    "start_time": "2024-06-13T21:10:15.318Z"
   },
   {
    "duration": 5,
    "start_time": "2024-06-13T21:10:15.347Z"
   },
   {
    "duration": 356,
    "start_time": "2024-06-13T21:10:15.356Z"
   },
   {
    "duration": 115,
    "start_time": "2024-06-13T21:10:15.716Z"
   },
   {
    "duration": 104,
    "start_time": "2024-06-13T21:10:15.834Z"
   },
   {
    "duration": 6,
    "start_time": "2024-06-13T21:10:15.941Z"
   },
   {
    "duration": 415,
    "start_time": "2024-06-13T21:10:15.953Z"
   },
   {
    "duration": 21,
    "start_time": "2024-06-13T21:10:16.370Z"
   },
   {
    "duration": 8,
    "start_time": "2024-06-13T21:10:16.410Z"
   },
   {
    "duration": 5,
    "start_time": "2024-06-13T21:10:16.421Z"
   },
   {
    "duration": 23,
    "start_time": "2024-06-13T21:10:16.429Z"
   },
   {
    "duration": 707,
    "start_time": "2024-06-13T21:10:16.455Z"
   },
   {
    "duration": 1314,
    "start_time": "2024-06-13T21:10:17.165Z"
   },
   {
    "duration": 103,
    "start_time": "2024-06-13T21:10:18.482Z"
   },
   {
    "duration": 16321,
    "start_time": "2024-06-13T21:10:18.587Z"
   },
   {
    "duration": 46847,
    "start_time": "2024-06-13T21:10:34.911Z"
   },
   {
    "duration": 312952,
    "start_time": "2024-06-13T21:14:37.268Z"
   },
   {
    "duration": 8,
    "start_time": "2024-06-13T21:20:30.114Z"
   },
   {
    "duration": 5,
    "start_time": "2024-06-13T21:20:36.603Z"
   },
   {
    "duration": 12163,
    "start_time": "2024-06-13T21:21:09.856Z"
   },
   {
    "duration": 39329,
    "start_time": "2024-06-13T21:21:22.918Z"
   },
   {
    "duration": 5,
    "start_time": "2024-06-13T21:24:24.172Z"
   },
   {
    "duration": 1456,
    "start_time": "2024-06-13T21:26:50.289Z"
   },
   {
    "duration": 840,
    "start_time": "2024-06-13T21:26:52.825Z"
   },
   {
    "duration": 163,
    "start_time": "2024-06-13T21:26:54.546Z"
   },
   {
    "duration": 29,
    "start_time": "2024-06-13T21:26:54.902Z"
   },
   {
    "duration": 6,
    "start_time": "2024-06-13T21:26:55.535Z"
   },
   {
    "duration": 311,
    "start_time": "2024-06-13T21:26:55.825Z"
   },
   {
    "duration": 102,
    "start_time": "2024-06-13T21:26:56.624Z"
   },
   {
    "duration": 95,
    "start_time": "2024-06-13T21:26:56.989Z"
   },
   {
    "duration": 8,
    "start_time": "2024-06-13T21:26:57.358Z"
   },
   {
    "duration": 389,
    "start_time": "2024-06-13T21:26:57.993Z"
   },
   {
    "duration": 21,
    "start_time": "2024-06-13T21:26:58.570Z"
   },
   {
    "duration": 7,
    "start_time": "2024-06-13T21:27:01.052Z"
   },
   {
    "duration": 4,
    "start_time": "2024-06-13T21:27:01.690Z"
   },
   {
    "duration": 23,
    "start_time": "2024-06-13T21:27:02.417Z"
   },
   {
    "duration": 669,
    "start_time": "2024-06-13T21:27:03.210Z"
   },
   {
    "duration": 1321,
    "start_time": "2024-06-13T21:27:04.502Z"
   },
   {
    "duration": 98,
    "start_time": "2024-06-13T21:27:05.826Z"
   },
   {
    "duration": 6828,
    "start_time": "2024-06-13T21:27:11.503Z"
   },
   {
    "duration": 0,
    "start_time": "2024-06-13T21:27:44.014Z"
   },
   {
    "duration": 56196,
    "start_time": "2024-06-13T21:27:55.719Z"
   },
   {
    "duration": 36728,
    "start_time": "2024-06-13T21:29:43.173Z"
   },
   {
    "duration": 50189,
    "start_time": "2024-06-13T21:30:20.129Z"
   },
   {
    "duration": 51179,
    "start_time": "2024-06-13T21:31:17.254Z"
   },
   {
    "duration": 49197,
    "start_time": "2024-06-13T21:32:08.436Z"
   },
   {
    "duration": 8771,
    "start_time": "2024-06-13T21:34:01.052Z"
   },
   {
    "duration": 8744,
    "start_time": "2024-06-13T21:34:48.389Z"
   },
   {
    "duration": 1503,
    "start_time": "2024-06-13T21:35:34.497Z"
   },
   {
    "duration": 847,
    "start_time": "2024-06-13T21:35:36.007Z"
   },
   {
    "duration": 166,
    "start_time": "2024-06-13T21:35:36.856Z"
   },
   {
    "duration": 24,
    "start_time": "2024-06-13T21:35:37.026Z"
   },
   {
    "duration": 5,
    "start_time": "2024-06-13T21:35:37.053Z"
   },
   {
    "duration": 362,
    "start_time": "2024-06-13T21:35:37.061Z"
   },
   {
    "duration": 124,
    "start_time": "2024-06-13T21:35:37.427Z"
   },
   {
    "duration": 104,
    "start_time": "2024-06-13T21:35:37.554Z"
   },
   {
    "duration": 7,
    "start_time": "2024-06-13T21:35:37.663Z"
   },
   {
    "duration": 425,
    "start_time": "2024-06-13T21:35:37.675Z"
   },
   {
    "duration": 25,
    "start_time": "2024-06-13T21:35:38.103Z"
   },
   {
    "duration": 7,
    "start_time": "2024-06-13T21:35:38.609Z"
   },
   {
    "duration": 4,
    "start_time": "2024-06-13T21:35:38.979Z"
   },
   {
    "duration": 28,
    "start_time": "2024-06-13T21:35:39.426Z"
   },
   {
    "duration": 669,
    "start_time": "2024-06-13T21:35:40.276Z"
   },
   {
    "duration": 1298,
    "start_time": "2024-06-13T21:35:41.626Z"
   },
   {
    "duration": 83,
    "start_time": "2024-06-13T21:35:43.970Z"
   },
   {
    "duration": 33379,
    "start_time": "2024-06-13T21:35:49.346Z"
   },
   {
    "duration": 56398,
    "start_time": "2024-06-13T21:37:14.427Z"
   },
   {
    "duration": 51996,
    "start_time": "2024-06-13T21:38:10.828Z"
   },
   {
    "duration": 50204,
    "start_time": "2024-06-13T21:39:02.828Z"
   },
   {
    "duration": 87385,
    "start_time": "2024-06-13T21:39:53.036Z"
   },
   {
    "duration": 76840,
    "start_time": "2024-06-13T21:41:20.424Z"
   },
   {
    "duration": 70484,
    "start_time": "2024-06-13T21:42:37.266Z"
   },
   {
    "duration": 9,
    "start_time": "2024-06-13T21:57:39.834Z"
   },
   {
    "duration": 7,
    "start_time": "2024-06-13T21:57:55.664Z"
   },
   {
    "duration": 6946,
    "start_time": "2024-06-13T21:58:40.376Z"
   },
   {
    "duration": 6,
    "start_time": "2024-06-13T22:00:21.787Z"
   },
   {
    "duration": 5,
    "start_time": "2024-06-13T22:00:22.420Z"
   },
   {
    "duration": 26,
    "start_time": "2024-06-13T22:00:34.938Z"
   },
   {
    "duration": 25,
    "start_time": "2024-06-13T22:00:46.126Z"
   },
   {
    "duration": 6,
    "start_time": "2024-06-13T22:01:21.770Z"
   },
   {
    "duration": 58040,
    "start_time": "2024-06-13T22:01:21.779Z"
   },
   {
    "duration": 57787,
    "start_time": "2024-06-13T22:02:19.823Z"
   },
   {
    "duration": 5,
    "start_time": "2024-06-13T22:03:17.620Z"
   },
   {
    "duration": 8,
    "start_time": "2024-06-13T22:03:43.395Z"
   },
   {
    "duration": 58080,
    "start_time": "2024-06-13T22:03:43.662Z"
   },
   {
    "duration": 58005,
    "start_time": "2024-06-13T22:06:03.838Z"
   },
   {
    "duration": 12051,
    "start_time": "2024-06-13T22:08:05.507Z"
   },
   {
    "duration": 9,
    "start_time": "2024-06-13T22:08:17.565Z"
   },
   {
    "duration": 58334,
    "start_time": "2024-06-13T22:08:17.702Z"
   },
   {
    "duration": 53520,
    "start_time": "2024-06-13T22:09:16.110Z"
   },
   {
    "duration": 51139,
    "start_time": "2024-06-13T22:10:17.701Z"
   },
   {
    "duration": 92787,
    "start_time": "2024-06-13T22:14:51.137Z"
   },
   {
    "duration": 7,
    "start_time": "2024-06-13T22:18:01.202Z"
   },
   {
    "duration": 103786,
    "start_time": "2024-06-13T22:18:04.067Z"
   },
   {
    "duration": 79,
    "start_time": "2024-06-13T22:28:17.050Z"
   },
   {
    "duration": 167,
    "start_time": "2024-06-13T22:28:46.534Z"
   },
   {
    "duration": 11,
    "start_time": "2024-06-13T22:31:53.724Z"
   },
   {
    "duration": 1456,
    "start_time": "2024-06-13T22:32:05.894Z"
   },
   {
    "duration": 850,
    "start_time": "2024-06-13T22:32:07.355Z"
   },
   {
    "duration": 151,
    "start_time": "2024-06-13T22:32:08.207Z"
   },
   {
    "duration": 47,
    "start_time": "2024-06-13T22:32:08.363Z"
   },
   {
    "duration": 6,
    "start_time": "2024-06-13T22:32:08.413Z"
   },
   {
    "duration": 344,
    "start_time": "2024-06-13T22:32:08.422Z"
   },
   {
    "duration": 118,
    "start_time": "2024-06-13T22:32:08.769Z"
   },
   {
    "duration": 102,
    "start_time": "2024-06-13T22:32:08.890Z"
   },
   {
    "duration": 16,
    "start_time": "2024-06-13T22:32:08.995Z"
   },
   {
    "duration": 414,
    "start_time": "2024-06-13T22:32:09.017Z"
   },
   {
    "duration": 19,
    "start_time": "2024-06-13T22:32:09.436Z"
   },
   {
    "duration": 8,
    "start_time": "2024-06-13T22:32:09.459Z"
   },
   {
    "duration": 4,
    "start_time": "2024-06-13T22:32:09.472Z"
   },
   {
    "duration": 60,
    "start_time": "2024-06-13T22:32:09.478Z"
   },
   {
    "duration": 680,
    "start_time": "2024-06-13T22:32:09.634Z"
   },
   {
    "duration": 1294,
    "start_time": "2024-06-13T22:32:10.708Z"
   },
   {
    "duration": 83,
    "start_time": "2024-06-13T22:32:12.010Z"
   },
   {
    "duration": 88323,
    "start_time": "2024-06-13T22:32:26.840Z"
   },
   {
    "duration": 5160,
    "start_time": "2024-06-14T10:42:03.009Z"
   },
   {
    "duration": 776,
    "start_time": "2024-06-14T10:42:09.958Z"
   },
   {
    "duration": 158,
    "start_time": "2024-06-14T10:42:10.843Z"
   },
   {
    "duration": 25,
    "start_time": "2024-06-14T10:42:11.258Z"
   },
   {
    "duration": 9,
    "start_time": "2024-06-14T10:42:12.039Z"
   },
   {
    "duration": 311,
    "start_time": "2024-06-14T10:42:12.528Z"
   },
   {
    "duration": 113,
    "start_time": "2024-06-14T10:42:13.476Z"
   },
   {
    "duration": 92,
    "start_time": "2024-06-14T10:42:14.017Z"
   },
   {
    "duration": 7,
    "start_time": "2024-06-14T10:42:14.820Z"
   },
   {
    "duration": 398,
    "start_time": "2024-06-14T10:42:15.435Z"
   },
   {
    "duration": 21,
    "start_time": "2024-06-14T10:42:16.769Z"
   },
   {
    "duration": 8,
    "start_time": "2024-06-14T10:42:18.499Z"
   },
   {
    "duration": 4,
    "start_time": "2024-06-14T10:42:19.453Z"
   },
   {
    "duration": 28,
    "start_time": "2024-06-14T10:42:20.035Z"
   },
   {
    "duration": 723,
    "start_time": "2024-06-14T10:42:20.682Z"
   },
   {
    "duration": 1337,
    "start_time": "2024-06-14T10:42:21.649Z"
   },
   {
    "duration": 109,
    "start_time": "2024-06-14T10:42:22.990Z"
   },
   {
    "duration": 17414,
    "start_time": "2024-06-14T10:47:17.816Z"
   },
   {
    "duration": 4125,
    "start_time": "2024-06-14T10:47:40.132Z"
   },
   {
    "duration": 23175,
    "start_time": "2024-06-14T10:48:27.534Z"
   },
   {
    "duration": 217931,
    "start_time": "2024-06-14T10:50:09.894Z"
   },
   {
    "duration": 620373,
    "start_time": "2024-06-14T10:55:19.895Z"
   },
   {
    "duration": 5,
    "start_time": "2024-06-14T11:06:25.429Z"
   },
   {
    "duration": 4,
    "start_time": "2024-06-14T11:06:38.482Z"
   },
   {
    "duration": 23281,
    "start_time": "2024-06-14T11:09:21.988Z"
   },
   {
    "duration": 7,
    "start_time": "2024-06-14T11:10:18.944Z"
   },
   {
    "duration": 23241,
    "start_time": "2024-06-14T11:10:20.976Z"
   },
   {
    "duration": 5,
    "start_time": "2024-06-14T11:10:47.103Z"
   },
   {
    "duration": 134453,
    "start_time": "2024-06-14T11:11:34.262Z"
   },
   {
    "duration": 5,
    "start_time": "2024-06-14T11:18:13.325Z"
   },
   {
    "duration": 236,
    "start_time": "2024-06-14T11:18:21.690Z"
   },
   {
    "duration": 17459,
    "start_time": "2024-06-14T11:18:35.172Z"
   },
   {
    "duration": 28,
    "start_time": "2024-06-14T11:19:01.837Z"
   },
   {
    "duration": 447189,
    "start_time": "2024-06-14T11:19:15.171Z"
   },
   {
    "duration": 26,
    "start_time": "2024-06-14T11:27:05.945Z"
   },
   {
    "duration": 11,
    "start_time": "2024-06-14T11:27:17.824Z"
   },
   {
    "duration": 9,
    "start_time": "2024-06-14T11:28:39.698Z"
   },
   {
    "duration": 10,
    "start_time": "2024-06-14T11:28:42.726Z"
   },
   {
    "duration": 7,
    "start_time": "2024-06-14T11:28:49.423Z"
   },
   {
    "duration": 11,
    "start_time": "2024-06-14T11:28:53.510Z"
   },
   {
    "duration": 6,
    "start_time": "2024-06-14T11:37:13.411Z"
   },
   {
    "duration": 7109,
    "start_time": "2024-06-14T11:37:25.225Z"
   },
   {
    "duration": 6464,
    "start_time": "2024-06-14T11:38:54.556Z"
   },
   {
    "duration": 6576,
    "start_time": "2024-06-14T11:39:49.510Z"
   },
   {
    "duration": 8915,
    "start_time": "2024-06-14T11:42:29.211Z"
   },
   {
    "duration": 63056,
    "start_time": "2024-06-14T11:43:05.999Z"
   },
   {
    "duration": 16432,
    "start_time": "2024-06-14T11:48:00.298Z"
   },
   {
    "duration": 16622,
    "start_time": "2024-06-14T11:49:04.310Z"
   },
   {
    "duration": 22774,
    "start_time": "2024-06-14T11:50:47.164Z"
   },
   {
    "duration": 4047,
    "start_time": "2024-06-14T11:51:28.589Z"
   },
   {
    "duration": 18010,
    "start_time": "2024-06-14T11:52:06.823Z"
   },
   {
    "duration": 10766,
    "start_time": "2024-06-14T11:52:32.971Z"
   },
   {
    "duration": 15073,
    "start_time": "2024-06-14T11:52:57.782Z"
   },
   {
    "duration": 4,
    "start_time": "2024-06-14T11:53:53.178Z"
   },
   {
    "duration": 4,
    "start_time": "2024-06-14T11:54:05.218Z"
   },
   {
    "duration": 37,
    "start_time": "2024-06-14T11:55:26.773Z"
   },
   {
    "duration": 34,
    "start_time": "2024-06-14T11:55:29.041Z"
   },
   {
    "duration": 6557,
    "start_time": "2024-06-14T11:55:52.447Z"
   },
   {
    "duration": 4,
    "start_time": "2024-06-14T11:56:03.314Z"
   },
   {
    "duration": 5,
    "start_time": "2024-06-14T11:56:04.480Z"
   },
   {
    "duration": 5,
    "start_time": "2024-06-14T11:56:55.894Z"
   },
   {
    "duration": 5,
    "start_time": "2024-06-14T11:57:20.255Z"
   },
   {
    "duration": 201,
    "start_time": "2024-06-14T12:00:41.980Z"
   },
   {
    "duration": 1168,
    "start_time": "2024-06-14T12:01:42.630Z"
   },
   {
    "duration": 273,
    "start_time": "2024-06-14T12:02:08.527Z"
   },
   {
    "duration": 193,
    "start_time": "2024-06-14T12:02:54.764Z"
   },
   {
    "duration": 226,
    "start_time": "2024-06-14T12:02:59.653Z"
   },
   {
    "duration": 318,
    "start_time": "2024-06-14T12:03:09.834Z"
   },
   {
    "duration": 190,
    "start_time": "2024-06-14T12:03:37.004Z"
   },
   {
    "duration": 417,
    "start_time": "2024-06-14T12:04:10.142Z"
   },
   {
    "duration": 8,
    "start_time": "2024-06-14T12:04:33.636Z"
   },
   {
    "duration": 567,
    "start_time": "2024-06-14T12:04:37.645Z"
   },
   {
    "duration": 613,
    "start_time": "2024-06-14T12:05:59.699Z"
   },
   {
    "duration": 747,
    "start_time": "2024-06-14T12:07:18.028Z"
   },
   {
    "duration": 704,
    "start_time": "2024-06-14T12:07:55.332Z"
   },
   {
    "duration": 553,
    "start_time": "2024-06-14T12:08:11.627Z"
   },
   {
    "duration": 546,
    "start_time": "2024-06-14T12:08:45.677Z"
   },
   {
    "duration": 722,
    "start_time": "2024-06-14T12:08:52.073Z"
   },
   {
    "duration": 994,
    "start_time": "2024-06-14T12:09:04.429Z"
   },
   {
    "duration": 700,
    "start_time": "2024-06-14T12:09:12.579Z"
   },
   {
    "duration": 807,
    "start_time": "2024-06-14T12:09:25.916Z"
   },
   {
    "duration": 641,
    "start_time": "2024-06-14T12:09:36.622Z"
   },
   {
    "duration": 703,
    "start_time": "2024-06-14T12:10:36.998Z"
   },
   {
    "duration": 792,
    "start_time": "2024-06-14T12:11:07.614Z"
   },
   {
    "duration": 638,
    "start_time": "2024-06-14T12:27:19.849Z"
   },
   {
    "duration": 3,
    "start_time": "2024-06-14T12:34:33.848Z"
   },
   {
    "duration": 4,
    "start_time": "2024-06-14T12:34:50.168Z"
   },
   {
    "duration": 5155,
    "start_time": "2024-06-16T13:17:54.878Z"
   },
   {
    "duration": 776,
    "start_time": "2024-06-16T13:18:00.036Z"
   },
   {
    "duration": 146,
    "start_time": "2024-06-16T13:18:02.265Z"
   },
   {
    "duration": 26,
    "start_time": "2024-06-16T13:18:03.092Z"
   },
   {
    "duration": 5,
    "start_time": "2024-06-16T13:18:05.075Z"
   },
   {
    "duration": 306,
    "start_time": "2024-06-16T13:18:06.301Z"
   },
   {
    "duration": 123,
    "start_time": "2024-06-16T13:18:10.011Z"
   },
   {
    "duration": 96,
    "start_time": "2024-06-16T13:18:11.015Z"
   }
  ],
  "kernelspec": {
   "display_name": "Python 3 (ipykernel)",
   "language": "python",
   "name": "python3"
  },
  "language_info": {
   "codemirror_mode": {
    "name": "ipython",
    "version": 3
   },
   "file_extension": ".py",
   "mimetype": "text/x-python",
   "name": "python",
   "nbconvert_exporter": "python",
   "pygments_lexer": "ipython3",
   "version": "3.1.-1"
  },
  "toc": {
   "base_numbering": 1,
   "nav_menu": {},
   "number_sections": true,
   "sideBar": true,
   "skip_h1_title": true,
   "title_cell": "Table of Contents",
   "title_sidebar": "Contents",
   "toc_cell": false,
   "toc_position": {},
   "toc_section_display": true,
   "toc_window_display": false
  }
 },
 "nbformat": 4,
 "nbformat_minor": 2
}
